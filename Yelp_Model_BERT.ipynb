{
  "nbformat": 4,
  "nbformat_minor": 0,
  "metadata": {
    "colab": {
      "name": "Yelp_Model_BERT.ipynb",
      "provenance": [],
      "machine_shape": "hm",
      "authorship_tag": "ABX9TyPhHcP2pOlasT51kA8UDMoB",
      "include_colab_link": true
    },
    "kernelspec": {
      "name": "python3",
      "display_name": "Python 3"
    },
    "language_info": {
      "name": "python"
    },
    "accelerator": "GPU"
  },
  "cells": [
    {
      "cell_type": "markdown",
      "metadata": {
        "id": "view-in-github",
        "colab_type": "text"
      },
      "source": [
        "<a href=\"https://colab.research.google.com/github/am4279/Yelp_Sentiment_Models/blob/main/Yelp_Model_BERT.ipynb\" target=\"_parent\"><img src=\"https://colab.research.google.com/assets/colab-badge.svg\" alt=\"Open In Colab\"/></a>"
      ]
    },
    {
      "cell_type": "markdown",
      "metadata": {
        "id": "0gKK21P48v9q"
      },
      "source": [
        "\n",
        "\n",
        "#Building the Yelp Sentiment Model\n",
        "\n",
        "## Data Prep"
      ]
    },
    {
      "cell_type": "code",
      "metadata": {
        "colab": {
          "base_uri": "https://localhost:8080/"
        },
        "id": "ey1Eq8nh9wzJ",
        "outputId": "7bdadafe-5b3b-4edc-8170-69f7c606c409"
      },
      "source": [
        "from google.colab import drive\n",
        "drive.mount('/content/drive')"
      ],
      "execution_count": 1,
      "outputs": [
        {
          "output_type": "stream",
          "name": "stdout",
          "text": [
            "Drive already mounted at /content/drive; to attempt to forcibly remount, call drive.mount(\"/content/drive\", force_remount=True).\n"
          ]
        }
      ]
    },
    {
      "cell_type": "code",
      "metadata": {
        "id": "ZeFfAvaDYkRo"
      },
      "source": [
        "#!tar -xvf  '/content/drive/My Drive/yelp_dataset.tar' #-C 'content/drive/My Drive/yelp_reviews'"
      ],
      "execution_count": null,
      "outputs": []
    },
    {
      "cell_type": "code",
      "metadata": {
        "id": "X6ZH8E24PO1l"
      },
      "source": [
        "import pandas as pd\n",
        "\n",
        "# DATA_PATH = '/content/drive/MyDrive/yelp_academic_dataset_review.json'\n",
        "# data = pd.read_json(DATA_PATH, orient='records', lines=True)\n",
        "# data.shape"
      ],
      "execution_count": 2,
      "outputs": []
    },
    {
      "cell_type": "markdown",
      "metadata": {
        "id": "O4GxwtuuUrmv"
      },
      "source": [
        "### Initializing a Spark kernel to operate on a file this size"
      ]
    },
    {
      "cell_type": "code",
      "metadata": {
        "id": "65GERH58eqZo"
      },
      "source": [
        "!pip install pyspark\n",
        "!pip install langdetect"
      ],
      "execution_count": null,
      "outputs": []
    },
    {
      "cell_type": "code",
      "metadata": {
        "id": "4vCan0UABbrp"
      },
      "source": [
        "from pyspark.sql.functions import *\n",
        "from pyspark.sql.types import *"
      ],
      "execution_count": null,
      "outputs": []
    },
    {
      "cell_type": "code",
      "metadata": {
        "id": "939k3By0EG1Q"
      },
      "source": [
        "import numpy as np"
      ],
      "execution_count": 3,
      "outputs": []
    },
    {
      "cell_type": "code",
      "metadata": {
        "id": "vMonSTL9Bsku"
      },
      "source": [
        "from langdetect import detect"
      ],
      "execution_count": null,
      "outputs": []
    },
    {
      "cell_type": "code",
      "metadata": {
        "id": "jd2e_uEsf-W2"
      },
      "source": [
        "!apt-get install openjdk-8-jdk-headless -qq > /dev/null\n"
      ],
      "execution_count": null,
      "outputs": []
    },
    {
      "cell_type": "code",
      "metadata": {
        "id": "avWxG535f-TW"
      },
      "source": [
        "!wget -q https://mirror.cogentco.com/pub/apache/spark/spark-3.1.2/spark-3.1.2-bin-hadoop3.2.tgz\n"
      ],
      "execution_count": null,
      "outputs": []
    },
    {
      "cell_type": "code",
      "metadata": {
        "id": "gh_M9phff-Ql"
      },
      "source": [
        "!tar xf spark-3.1.2-bin-hadoop3.2.tgz\n"
      ],
      "execution_count": null,
      "outputs": []
    },
    {
      "cell_type": "code",
      "metadata": {
        "id": "CClhU-hLf-OY"
      },
      "source": [
        "!pip install -q findspark\n"
      ],
      "execution_count": null,
      "outputs": []
    },
    {
      "cell_type": "code",
      "metadata": {
        "id": "mbKdyJ2wh09L"
      },
      "source": [
        "import os\n",
        "os.environ[\"JAVA_HOME\"] = \"/usr/lib/jvm/java-8-openjdk-amd64\"\n",
        "os.environ[\"SPARK_HOME\"] = \"/content/spark-3.1.2-bin-hadoop3.2\""
      ],
      "execution_count": null,
      "outputs": []
    },
    {
      "cell_type": "code",
      "metadata": {
        "id": "LeZ2wXUZh2-f"
      },
      "source": [
        "import findspark\n",
        "findspark.init()"
      ],
      "execution_count": null,
      "outputs": []
    },
    {
      "cell_type": "code",
      "metadata": {
        "id": "9YcoNsYFiUux"
      },
      "source": [
        "from pyspark.sql import SparkSession\n",
        "\n",
        "spark = SparkSession.builder\\\n",
        "        .master(\"local\")\\\n",
        "        .appName(\"Colab\")\\\n",
        "        .config('spark.ui.port', '4050')\\\n",
        "        .getOrCreate()\n"
      ],
      "execution_count": null,
      "outputs": []
    },
    {
      "cell_type": "code",
      "metadata": {
        "id": "bOwL2w3kBuVR"
      },
      "source": [
        "spark.conf.set(\"spark.sql.repl.eagerEval.enabled\",True)"
      ],
      "execution_count": null,
      "outputs": []
    },
    {
      "cell_type": "code",
      "metadata": {
        "id": "3Fa2jLncByCt"
      },
      "source": [
        "review = spark.read.json('/content/drive/MyDrive/yelp_academic_dataset_review.json')"
      ],
      "execution_count": null,
      "outputs": []
    },
    {
      "cell_type": "code",
      "metadata": {
        "id": "6p5pGnjsB0WB"
      },
      "source": [
        "review.count()"
      ],
      "execution_count": null,
      "outputs": []
    },
    {
      "cell_type": "code",
      "metadata": {
        "colab": {
          "base_uri": "https://localhost:8080/"
        },
        "id": "sb5sVlflB2Ri",
        "outputId": "47c95773-7746-40b2-f731-a02f3242357b"
      },
      "source": [
        "review.head(10)"
      ],
      "execution_count": null,
      "outputs": [
        {
          "output_type": "execute_result",
          "data": {
            "text/plain": [
              "[Row(business_id='buF9druCkbuXLX526sGELQ', cool=1, date='2014-10-11 03:34:02', funny=1, review_id='lWC-xP3rd6obsecCYsGZRg', stars=4.0, text=\"Apparently Prides Osteria had a rough summer as evidenced by the almost empty dining room at 6:30 on a Friday night. However new blood in the kitchen seems to have revitalized the food from other customers recent visits. Waitstaff was warm but unobtrusive. By 8 pm or so when we left the bar was full and the dining room was much more lively than it had been. Perhaps Beverly residents prefer a later seating. \\n\\nAfter reading the mixed reviews of late I was a little tentative over our choice but luckily there was nothing to worry about in the food department. We started with the fried dough, burrata and prosciutto which were all lovely. Then although they don't offer half portions of pasta we each ordered the entree size and split them. We chose the tagliatelle bolognese and a four cheese filled pasta in a creamy sauce with bacon, asparagus and grana frita. Both were very good. We split a secondi which was the special Berkshire pork secreto, which was described as a pork skirt steak with garlic potato purée and romanesco broccoli (incorrectly described as a romanesco sauce). Some tables received bread before the meal but for some reason we did not. \\n\\nManagement also seems capable for when the tenants in the apartment above began playing basketball she intervened and also comped the tables a dessert. We ordered the apple dumpling with gelato and it was also quite tasty. Portions are not huge which I particularly like because I prefer to order courses. If you are someone who orders just a meal you may leave hungry depending on you appetite. Dining room was mostly younger crowd while the bar was definitely the over 40 set. Would recommend that the naysayers return to see the improvement although I personally don't know the former glory to be able to compare. Easy access to downtown Salem without the crowds on this month of October.\", useful=3, user_id='ak0TdVmGKo4pwqdJSTLwWw'),\n",
              " Row(business_id='RA4V8pr014UyUbDvI-LW2A', cool=0, date='2015-07-03 20:38:25', funny=0, review_id='8bFej1QE5LXp4O05qjGqXA', stars=4.0, text='This store is pretty good. Not as great as Walmart (or my preferred, Milford Target), but closer and in a easier area to get to.  \\nThe store itself is pretty clean and organized, the staff are friendly (most of the time), and BEST of all is the Self Checkout this store has! \\nGreat clearance sections throughout, and great prices on everything in the store, in general (they pricematch too!). \\nChristian, Debbie, Jen and Hanna are all very friendly, helpful, sensitive to all customer needs. Definitely one of the better Target locations in the area, and they do a GREAT job assisting customers for being such a busy store. Located directly in the Framingham Mall on Cochituate Rd / Route 30. 4 stars.', useful=1, user_id='YoVfDbnISlW0f7abNQACIg'),\n",
              " Row(business_id='_sS2LBIGNT5NQb6PD1Vtjw', cool=0, date='2013-05-28 20:38:06', funny=0, review_id='NDhkzczKjLshODbqDoNLSg', stars=5.0, text=\"I called WVM on the recommendation of a couple of friends who had used them in the past and thought they did a nice job. I'm a fan now, too.\\n\\nEvan and Cody showed up right on time for my move this past weekend. They were friendly and energetic, working quickly but carefully to get all my things moved out of the old place and into the new one in less than 2.5 hours. All of my (heavy) furniture arrived in perfect condition, and they took extra care not to scratch the wood floors in the process.\\n\\nI hope not to move again anytime soon, but next time I do, I'll be calling WVM.\", useful=0, user_id='eC5evKn1TWDyHCyQAwguUw'),\n",
              " Row(business_id='0AzLzHfOJgL7ROwhdww2ew', cool=1, date='2010-01-08 02:29:15', funny=1, review_id='T5fAqjjFooT4V0OeZyuk1w', stars=2.0, text=\"I've stayed at many Marriott and Renaissance Marriott's and this was a huge disappointment! The front desk and atrium is nice..there is a starbucks on site which is nice.\\n\\nThe rooms are run down and old.  There is a flat screen but that is to be expected of a Renaissance.\\n\\nWe got this hotel via Priceline at a rate of $75/night...good deal for the price but this is not a true Renaissance.\", useful=1, user_id='SFQ1jcnGguO0LYWnbbftAA'),\n",
              " Row(business_id='8zehGz9jnxPqXtOc7KaJxA', cool=0, date='2011-07-28 18:05:01', funny=0, review_id='sjm_uUcQVxab_EeLCqsYLg', stars=4.0, text=\"The food is always great here. The service from both the manager as well as the staff is super. Only draw back of this restaurant is it's super loud. If you can, snag a patio table!\", useful=0, user_id='0kA0PAJ8QFMeveQWHFqz2A'),\n",
              " Row(business_id='xGXzsc-hzam-VArK6eTvtw', cool=0, date='2018-01-21 04:41:03', funny=0, review_id='J4a2TuhDasjn2k3wWtHZnQ', stars=1.0, text='This place used to be a cool, chill place. Now its a bunch of neanderthal bouncers hopped up on steroids acting like the can do whatever they want. There are so many better places in davis square where they are glad you are visiting their business. Sad that the burren is now the worst place in davis.', useful=2, user_id='RNm_RWkcd02Li2mKPRe7Eg'),\n",
              " Row(business_id='EXOsmAB1s71WePlQk0WZrA', cool=0, date='2006-04-16 02:58:44', funny=0, review_id='28gGfkLs3igtjVy61lh77Q', stars=2.0, text=\"The setting is perfectly adequate, and the food comes close.   The dining chains like Chilis and Victoria Station do barbecue better.\\n\\nIt's no surprise you can always pick up coupons for Linwood at restaurant.com.\", useful=0, user_id='Q8c91v7luItVB0cMFF_mRA'),\n",
              " Row(business_id='DbXHNl890xSXNiyRczLWAg', cool=0, date='2017-12-02 18:16:13', funny=0, review_id='9vqwvFCBG3FBiHGmOHMmiA', stars=5.0, text=\"Probably one of the better breakfast sandwiches I've ever had. I had the EGGMEATMUFFIN, the bread was toasted perfectly and the bacon was a real thick cut. Not that lame bacon we are more familiar with at your conventional breakfast diner. In addition, the place was clean and the staff was very helpful. The butcher had several different cuts available and was knowledgable as well as friendly. I left with some cuts of pork and beef and am excited to come back!\", useful=0, user_id='XGkAG92TQ3MQUKGX9sLUhw'),\n",
              " Row(business_id='mD-A9KOWADXvfrZfwDs-jw', cool=0, date='2012-05-28 15:00:47', funny=0, review_id='2l_TDrQ7p-5tANOyiOlkLQ', stars=4.0, text='I am definitely a fan of Sports Authority.  This particular location has a good check in deal.  We came here near Christmas time to buy some presents and we had a good experience.  The staff members were very friendly and they helped us find what we were looking for.  We got some golf stuff, two pairs of shoes, a tennis racket bag, and some bicycle accessories.  The store was clean and well organized.  They have everything from apparel to basketballs and everything in between.  Good spot to buy athletic merchandise.', useful=1, user_id='LWUnzwK0ILquLLZcHHE1Mw'),\n",
              " Row(business_id='EEHhKSxUvJkoPSzeGKkpVg', cool=0, date='2014-05-07 18:10:21', funny=0, review_id='KKVFopqzcVfcubIBxmIjVA', stars=5.0, text='I work in the Pru and this is the most affordable and tasty place in the food court.  deals where a meal is $5-$7 and the chicken pesto is really good.   I am not a chowda person but all there soups I have had are pretty damn good.  Broccoli chicken is my favorite.  Also, probably the most personable Food court staff I have ever had the pleasure of ordering from.', useful=0, user_id='99RsBrARhhx60UnAC4yDoA')]"
            ]
          },
          "metadata": {},
          "execution_count": 33
        }
      ]
    },
    {
      "cell_type": "code",
      "metadata": {
        "id": "NicJ19KdB2Or"
      },
      "source": [
        "review_sample.printSchema()"
      ],
      "execution_count": null,
      "outputs": []
    },
    {
      "cell_type": "code",
      "metadata": {
        "id": "fWfoammXB2MO"
      },
      "source": [
        "review_sample.describe(['stars']).show()"
      ],
      "execution_count": null,
      "outputs": []
    },
    {
      "cell_type": "code",
      "metadata": {
        "id": "_doBFpjcB2Ic"
      },
      "source": [
        "review_sample.groupby('stars').agg(count('*').alias('record_cnt')).orderBy('stars', ascending=False).show()"
      ],
      "execution_count": null,
      "outputs": []
    },
    {
      "cell_type": "code",
      "metadata": {
        "id": "zFqrJi0lB2Fp"
      },
      "source": [
        "review = review.\\\n",
        "withColumn(\"sentiment_strength\",\\\n",
        "           when(col(\"stars\") == 1, \"Strong Negative\").\\\n",
        "           when(col(\"stars\") == 2, \"Negative\").\\\n",
        "           when(col(\"stars\") == 3, \"Neutral\").\\\n",
        "           when(col(\"stars\") == 4, \"Positive\").\\\n",
        "           when(col(\"stars\") == 5, \"Strong Positive\").\\\n",
        "           otherwise(\"No Sentiment\")).\\\n",
        "withColumn(\"label\",\\\n",
        "           when(col(\"stars\") == 1, 0).\\\n",
        "#            when(col(\"stars\") == 2, 0).\\\n",
        "#            when(col(\"stars\") == 3, 2).\\\n",
        "#            when(col(\"stars\") == 4, 1).\\\n",
        "           when(col(\"stars\") == 5, 1).\\\n",
        "           otherwise(3))"
      ],
      "execution_count": null,
      "outputs": []
    },
    {
      "cell_type": "code",
      "metadata": {
        "colab": {
          "base_uri": "https://localhost:8080/"
        },
        "id": "4KU32SPqB1qk",
        "outputId": "01c5a27d-5a7c-4779-eba3-02dc6ce2a1f3"
      },
      "source": [
        "review.groupby('label').agg(count('*').alias('record_cnt')).orderBy('label', ascending=False).show()"
      ],
      "execution_count": null,
      "outputs": [
        {
          "output_type": "stream",
          "text": [
            "+-----+----------+\n",
            "|label|record_cnt|\n",
            "+-----+----------+\n",
            "|    3|   3558071|\n",
            "|    1|   3814532|\n",
            "|    0|   1262800|\n",
            "+-----+----------+\n",
            "\n"
          ],
          "name": "stdout"
        }
      ]
    },
    {
      "cell_type": "code",
      "metadata": {
        "id": "7i7ckcnOCIXc"
      },
      "source": [
        "trainingData = review.filter(review['label'] < 3).select('text', 'label')"
      ],
      "execution_count": null,
      "outputs": []
    },
    {
      "cell_type": "code",
      "metadata": {
        "colab": {
          "base_uri": "https://localhost:8080/",
          "height": 155
        },
        "id": "XluE6v9qCIVP",
        "outputId": "e6dc3168-715b-4afb-d6ea-f20d533074cd"
      },
      "source": [
        "trainingData.limit(5)"
      ],
      "execution_count": null,
      "outputs": [
        {
          "output_type": "execute_result",
          "data": {
            "text/html": [
              "<table border='1'>\n",
              "<tr><th>text</th><th>label</th></tr>\n",
              "<tr><td>I called WVM on t...</td><td>1</td></tr>\n",
              "<tr><td>This place used t...</td><td>0</td></tr>\n",
              "<tr><td>Probably one of t...</td><td>1</td></tr>\n",
              "<tr><td>I work in the Pru...</td><td>1</td></tr>\n",
              "<tr><td>They NEVER seem t...</td><td>0</td></tr>\n",
              "</table>\n"
            ],
            "text/plain": [
              "+--------------------+-----+\n",
              "|                text|label|\n",
              "+--------------------+-----+\n",
              "|I called WVM on t...|    1|\n",
              "|This place used t...|    0|\n",
              "|Probably one of t...|    1|\n",
              "|I work in the Pru...|    1|\n",
              "|They NEVER seem t...|    0|\n",
              "+--------------------+-----+"
            ]
          },
          "metadata": {},
          "execution_count": 39
        }
      ]
    },
    {
      "cell_type": "markdown",
      "metadata": {
        "id": "IHAT30CsCSVC"
      },
      "source": [
        "### Balance sample between classes"
      ]
    },
    {
      "cell_type": "code",
      "metadata": {
        "colab": {
          "base_uri": "https://localhost:8080/"
        },
        "id": "yuDul-0iCISj",
        "outputId": "351f2c95-53f0-4b99-fd3c-4218b3906164"
      },
      "source": [
        "ratio_adjust = 1.0 ## ratio of pos to neg in the df_subsample\n",
        "\n",
        "\n",
        "counts = trainingData.groupBy('label').count().collect()\n",
        "\n",
        "if counts[0][1] > counts[1][1]:\n",
        "    down_class = counts[0][0]\n",
        "else:\n",
        "    down_class = counts[1][0]\n",
        "    \n",
        "\n",
        "higherBound = counts[0][1]\n",
        "treshold_to_filter = int(ratio_adjust * float(counts[1][1]) / counts[0][1] * higherBound)\n",
        " \n",
        "randGen = lambda x: np.random.randint(0, higherBound) if x == down_class else -1\n",
        " \n",
        "udfRandGen = udf(randGen, IntegerType())\n",
        "\n",
        "trainingData = trainingData.withColumn(\"randIndex\", udfRandGen(\"label\"))\n",
        "trainingData = trainingData.filter(trainingData['randIndex'] < treshold_to_filter).drop('randIndex')\n",
        " \n",
        "print(\"Distribution of Pos and Neg cases of the down-sampled training data are: \\n\", \\\n",
        "      trainingData.groupBy(\"label\").count().take(3))"
      ],
      "execution_count": null,
      "outputs": [
        {
          "output_type": "stream",
          "text": [
            "Distribution of Pos and Neg cases of the down-sampled training data are: \n",
            " [Row(label=1, count=1262267), Row(label=0, count=1262800)]\n"
          ],
          "name": "stdout"
        }
      ]
    },
    {
      "cell_type": "code",
      "metadata": {
        "id": "Qo53FOSyCIPw"
      },
      "source": [
        "trainingDataSample = trainingData.sample(False, 0.1, 12345)"
      ],
      "execution_count": null,
      "outputs": []
    },
    {
      "cell_type": "code",
      "metadata": {
        "colab": {
          "base_uri": "https://localhost:8080/"
        },
        "id": "MQ5bYpaKCIM8",
        "outputId": "aa7b3239-dcff-4d4e-a102-967b8f6a618d"
      },
      "source": [
        "trainingDataSample.count()"
      ],
      "execution_count": null,
      "outputs": [
        {
          "output_type": "execute_result",
          "data": {
            "text/plain": [
              "251744"
            ]
          },
          "metadata": {},
          "execution_count": 42
        }
      ]
    },
    {
      "cell_type": "code",
      "metadata": {
        "colab": {
          "base_uri": "https://localhost:8080/"
        },
        "id": "d1vSlU43CIGP",
        "outputId": "b8620c4d-3f13-4d6b-b410-b78eeb6f8929"
      },
      "source": [
        "pd_reviews = trainingDataSample.toPandas()\n",
        "type(pd_reviews)"
      ],
      "execution_count": null,
      "outputs": [
        {
          "output_type": "execute_result",
          "data": {
            "text/plain": [
              "pandas.core.frame.DataFrame"
            ]
          },
          "metadata": {},
          "execution_count": 43
        }
      ]
    },
    {
      "cell_type": "code",
      "metadata": {
        "id": "dvaFm7eUCjlq"
      },
      "source": [
        "# pd_reviews.to_pickle('/temp/yelp_review.pkl')\n",
        "\n",
        "pd_reviews.to_json('/content/drive/MyDrive/yelp_review.json', orient='records', lines=True)"
      ],
      "execution_count": null,
      "outputs": []
    },
    {
      "cell_type": "code",
      "metadata": {
        "colab": {
          "base_uri": "https://localhost:8080/",
          "height": 203
        },
        "id": "TjEQgLChCjie",
        "outputId": "47ee7999-a0db-4e52-f460-5d4d4502cdab"
      },
      "source": [
        "pd_reviews.head(5)"
      ],
      "execution_count": null,
      "outputs": [
        {
          "output_type": "execute_result",
          "data": {
            "text/html": [
              "<div>\n",
              "<style scoped>\n",
              "    .dataframe tbody tr th:only-of-type {\n",
              "        vertical-align: middle;\n",
              "    }\n",
              "\n",
              "    .dataframe tbody tr th {\n",
              "        vertical-align: top;\n",
              "    }\n",
              "\n",
              "    .dataframe thead th {\n",
              "        text-align: right;\n",
              "    }\n",
              "</style>\n",
              "<table border=\"1\" class=\"dataframe\">\n",
              "  <thead>\n",
              "    <tr style=\"text-align: right;\">\n",
              "      <th></th>\n",
              "      <th>text</th>\n",
              "      <th>label</th>\n",
              "    </tr>\n",
              "  </thead>\n",
              "  <tbody>\n",
              "    <tr>\n",
              "      <th>0</th>\n",
              "      <td>This place used to be a cool, chill place. Now...</td>\n",
              "      <td>0</td>\n",
              "    </tr>\n",
              "    <tr>\n",
              "      <th>1</th>\n",
              "      <td>best pizza on a busy street! my kids love it. ...</td>\n",
              "      <td>1</td>\n",
              "    </tr>\n",
              "    <tr>\n",
              "      <th>2</th>\n",
              "      <td>Seriously, why aren't you at Comfort?\\n\\nTonig...</td>\n",
              "      <td>1</td>\n",
              "    </tr>\n",
              "    <tr>\n",
              "      <th>3</th>\n",
              "      <td>A few months back i went in for a toothache an...</td>\n",
              "      <td>0</td>\n",
              "    </tr>\n",
              "    <tr>\n",
              "      <th>4</th>\n",
              "      <td>Might be helpful if you were looking to buy, b...</td>\n",
              "      <td>0</td>\n",
              "    </tr>\n",
              "  </tbody>\n",
              "</table>\n",
              "</div>"
            ],
            "text/plain": [
              "                                                text  label\n",
              "0  This place used to be a cool, chill place. Now...      0\n",
              "1  best pizza on a busy street! my kids love it. ...      1\n",
              "2  Seriously, why aren't you at Comfort?\\n\\nTonig...      1\n",
              "3  A few months back i went in for a toothache an...      0\n",
              "4  Might be helpful if you were looking to buy, b...      0"
            ]
          },
          "metadata": {},
          "execution_count": 45
        }
      ]
    },
    {
      "cell_type": "code",
      "metadata": {
        "colab": {
          "base_uri": "https://localhost:8080/"
        },
        "id": "Q3Of9_CUCjfc",
        "outputId": "4666738d-42ad-4fca-a17a-033b3c91d2a3"
      },
      "source": [
        "pd_reviews.shape"
      ],
      "execution_count": null,
      "outputs": [
        {
          "output_type": "execute_result",
          "data": {
            "text/plain": [
              "(251784, 2)"
            ]
          },
          "metadata": {},
          "execution_count": 46
        }
      ]
    },
    {
      "cell_type": "markdown",
      "metadata": {
        "id": "xLVdqrGJCu4p"
      },
      "source": [
        "#### Saving the review DF with star ratings for multi-class classification"
      ]
    },
    {
      "cell_type": "code",
      "metadata": {
        "colab": {
          "base_uri": "https://localhost:8080/"
        },
        "id": "dMrpTLAsCjcM",
        "outputId": "f4e4b16a-9601-4634-ea59-f7903aacebd9"
      },
      "source": [
        "review_sample = review.sample(False, 0.05, 12345)\n",
        "review_sample.count()"
      ],
      "execution_count": null,
      "outputs": [
        {
          "output_type": "execute_result",
          "data": {
            "text/plain": [
              "432079"
            ]
          },
          "metadata": {},
          "execution_count": 47
        }
      ]
    },
    {
      "cell_type": "code",
      "metadata": {
        "id": "JmXbB9tZCjaO"
      },
      "source": [
        "pd_stars = review_sample.select('text', 'sentiment_strength').toPandas()"
      ],
      "execution_count": null,
      "outputs": []
    },
    {
      "cell_type": "code",
      "metadata": {
        "id": "dBU4YZpVCjXl"
      },
      "source": [
        "# pd_stars.to_pickle('/temp/yelp_review_stars.pkl')\n",
        "\n",
        "pd_stars.to_json('/content/drive/MyDrive/yelp_review_stars.json', orient='records', lines=True)"
      ],
      "execution_count": null,
      "outputs": []
    },
    {
      "cell_type": "code",
      "metadata": {
        "colab": {
          "base_uri": "https://localhost:8080/",
          "height": 203
        },
        "id": "weYNMSpfC1Vi",
        "outputId": "023dc4dd-1938-4fdd-931a-d5cc62e658d6"
      },
      "source": [
        "pd_stars.head(5)"
      ],
      "execution_count": null,
      "outputs": [
        {
          "output_type": "execute_result",
          "data": {
            "text/html": [
              "<div>\n",
              "<style scoped>\n",
              "    .dataframe tbody tr th:only-of-type {\n",
              "        vertical-align: middle;\n",
              "    }\n",
              "\n",
              "    .dataframe tbody tr th {\n",
              "        vertical-align: top;\n",
              "    }\n",
              "\n",
              "    .dataframe thead th {\n",
              "        text-align: right;\n",
              "    }\n",
              "</style>\n",
              "<table border=\"1\" class=\"dataframe\">\n",
              "  <thead>\n",
              "    <tr style=\"text-align: right;\">\n",
              "      <th></th>\n",
              "      <th>text</th>\n",
              "      <th>sentiment_strength</th>\n",
              "    </tr>\n",
              "  </thead>\n",
              "  <tbody>\n",
              "    <tr>\n",
              "      <th>0</th>\n",
              "      <td>This store is pretty good. Not as great as Wal...</td>\n",
              "      <td>Positive</td>\n",
              "    </tr>\n",
              "    <tr>\n",
              "      <th>1</th>\n",
              "      <td>They NEVER seem to get our \\norder correct, se...</td>\n",
              "      <td>Strong Negative</td>\n",
              "    </tr>\n",
              "    <tr>\n",
              "      <th>2</th>\n",
              "      <td>This place is truly a hidden gem (literally hi...</td>\n",
              "      <td>Positive</td>\n",
              "    </tr>\n",
              "    <tr>\n",
              "      <th>3</th>\n",
              "      <td>Incredible donuts. Sometimes you have to go ea...</td>\n",
              "      <td>Strong Positive</td>\n",
              "    </tr>\n",
              "    <tr>\n",
              "      <th>4</th>\n",
              "      <td>The ramen here is less than great. It came out...</td>\n",
              "      <td>Negative</td>\n",
              "    </tr>\n",
              "  </tbody>\n",
              "</table>\n",
              "</div>"
            ],
            "text/plain": [
              "                                                text sentiment_strength\n",
              "0  This store is pretty good. Not as great as Wal...           Positive\n",
              "1  They NEVER seem to get our \\norder correct, se...    Strong Negative\n",
              "2  This place is truly a hidden gem (literally hi...           Positive\n",
              "3  Incredible donuts. Sometimes you have to go ea...    Strong Positive\n",
              "4  The ramen here is less than great. It came out...           Negative"
            ]
          },
          "metadata": {},
          "execution_count": 51
        }
      ]
    },
    {
      "cell_type": "code",
      "metadata": {
        "colab": {
          "base_uri": "https://localhost:8080/"
        },
        "id": "3sDwBaBxC1TV",
        "outputId": "46a1deb2-ecba-48ba-d9f7-e63564f833fb"
      },
      "source": [
        "pd_stars.shape"
      ],
      "execution_count": null,
      "outputs": [
        {
          "output_type": "execute_result",
          "data": {
            "text/plain": [
              "(432079, 2)"
            ]
          },
          "metadata": {},
          "execution_count": 52
        }
      ]
    },
    {
      "cell_type": "markdown",
      "metadata": {
        "id": "npjT8GTtC6ib"
      },
      "source": [
        "#### Detect language and limit to English only"
      ]
    },
    {
      "cell_type": "code",
      "metadata": {
        "id": "P-fd5Ik-C1Q_"
      },
      "source": [
        "def lang_detect(x):\n",
        "    try:\n",
        "        return detect(x)\n",
        "    except:\n",
        "        return '--'"
      ],
      "execution_count": null,
      "outputs": []
    },
    {
      "cell_type": "code",
      "metadata": {
        "colab": {
          "base_uri": "https://localhost:8080/"
        },
        "id": "aroSAUbfC1OL",
        "outputId": "592be6e7-934f-46b3-ea45-e4429253cdfc"
      },
      "source": [
        "%time pd_reviews['lang'] = pd_reviews['text'].apply(lambda x: lang_detect(x))"
      ],
      "execution_count": null,
      "outputs": [
        {
          "output_type": "stream",
          "text": [
            "CPU times: user 31min 13s, sys: 32.9 s, total: 31min 46s\n",
            "Wall time: 31min 50s\n"
          ],
          "name": "stdout"
        }
      ]
    },
    {
      "cell_type": "code",
      "metadata": {
        "colab": {
          "base_uri": "https://localhost:8080/"
        },
        "id": "ByLV5bdrC1LS",
        "outputId": "e7884a9a-955b-4999-f358-b5328b7ed20f"
      },
      "source": [
        "pd_reviews = pd_reviews[pd_reviews['lang']=='en'].reset_index(drop=True)\n",
        "pd_reviews.shape"
      ],
      "execution_count": null,
      "outputs": [
        {
          "output_type": "execute_result",
          "data": {
            "text/plain": [
              "(251393, 3)"
            ]
          },
          "metadata": {},
          "execution_count": 55
        }
      ]
    },
    {
      "cell_type": "code",
      "metadata": {
        "id": "TDCdIm6eC1IL"
      },
      "source": [
        "pd_reviews.to_json('/content/drive/MyDrive/yelp_train_sentiment.json', orient='records', lines=True)"
      ],
      "execution_count": null,
      "outputs": []
    },
    {
      "cell_type": "markdown",
      "metadata": {
        "id": "-eKNV3hbDvRd"
      },
      "source": [
        "# Yelp Model Build"
      ]
    },
    {
      "cell_type": "code",
      "metadata": {
        "id": "iTyLWi65FFpk"
      },
      "source": [
        "#!pip install eli5"
      ],
      "execution_count": 7,
      "outputs": []
    },
    {
      "cell_type": "code",
      "metadata": {
        "id": "vSv7uigmDwSu"
      },
      "source": [
        "import sklearn\n",
        "import pandas as pd\n",
        "\n",
        "import wordcloud\n",
        "import matplotlib.pyplot as plt\n",
        "\n",
        "from sklearn.model_selection import train_test_split\n",
        "from sklearn.feature_extraction.text import CountVectorizer, HashingVectorizer, TfidfTransformer, TfidfVectorizer\n",
        "from sklearn.naive_bayes import MultinomialNB\n",
        "from sklearn.metrics import classification_report, confusion_matrix, accuracy_score\n",
        "from sklearn.linear_model import LogisticRegression, SGDClassifier\n",
        "from sklearn import metrics\n",
        "import numpy as np\n",
        "\n",
        "import eli5"
      ],
      "execution_count": 3,
      "outputs": []
    },
    {
      "cell_type": "markdown",
      "metadata": {
        "id": "FOeUZYLjD2il"
      },
      "source": [
        "## Load Data"
      ]
    },
    {
      "cell_type": "code",
      "metadata": {
        "id": "R6m5erP-D0A1"
      },
      "source": [
        "yelp_path = '/content/drive/MyDrive/yelp_train_sentiment.json'\n",
        "\n",
        "yelp = pd.read_json(yelp_path, orient='records', lines=True)\n",
        "# yelp = pd.read_json(yelp_path, orient='records', lines=True).head(10000)\n",
        "\n"
      ],
      "execution_count": 4,
      "outputs": []
    },
    {
      "cell_type": "code",
      "metadata": {
        "colab": {
          "base_uri": "https://localhost:8080/"
        },
        "id": "0NGsZaErfSDg",
        "outputId": "8dfe69c9-3c1a-433b-857a-730b9ad1a2e2"
      },
      "source": [
        "yelp.shape\n"
      ],
      "execution_count": 5,
      "outputs": [
        {
          "output_type": "execute_result",
          "data": {
            "text/plain": [
              "(251393, 3)"
            ]
          },
          "metadata": {},
          "execution_count": 5
        }
      ]
    },
    {
      "cell_type": "markdown",
      "metadata": {
        "id": "SKFR20TID_2D"
      },
      "source": [
        "#### Interpreting results\n",
        "label = 0 >> Negative Sentiment  \n",
        "label = 1 >> Positive Sentiment  "
      ]
    },
    {
      "cell_type": "code",
      "metadata": {
        "id": "ObydkBYADz-e",
        "colab": {
          "base_uri": "https://localhost:8080/",
          "height": 287
        },
        "outputId": "2f2d5a5a-264f-435b-92cc-ec4eb4bb8871"
      },
      "source": [
        "pd.set_option('display.max_colwidth', 200)\n",
        "yelp.head(5)"
      ],
      "execution_count": 6,
      "outputs": [
        {
          "output_type": "execute_result",
          "data": {
            "text/html": [
              "<div>\n",
              "<style scoped>\n",
              "    .dataframe tbody tr th:only-of-type {\n",
              "        vertical-align: middle;\n",
              "    }\n",
              "\n",
              "    .dataframe tbody tr th {\n",
              "        vertical-align: top;\n",
              "    }\n",
              "\n",
              "    .dataframe thead th {\n",
              "        text-align: right;\n",
              "    }\n",
              "</style>\n",
              "<table border=\"1\" class=\"dataframe\">\n",
              "  <thead>\n",
              "    <tr style=\"text-align: right;\">\n",
              "      <th></th>\n",
              "      <th>text</th>\n",
              "      <th>label</th>\n",
              "      <th>lang</th>\n",
              "    </tr>\n",
              "  </thead>\n",
              "  <tbody>\n",
              "    <tr>\n",
              "      <th>0</th>\n",
              "      <td>This place used to be a cool, chill place. Now its a bunch of neanderthal bouncers hopped up on steroids acting like the can do whatever they want. There are so many better places in davis square ...</td>\n",
              "      <td>0</td>\n",
              "      <td>en</td>\n",
              "    </tr>\n",
              "    <tr>\n",
              "      <th>1</th>\n",
              "      <td>best pizza on a busy street! my kids love it. i've been recommending to everyone who has a birthday party in that area to order from pizzapalooza and they are not disappointed. the pizza is thick,...</td>\n",
              "      <td>1</td>\n",
              "      <td>en</td>\n",
              "    </tr>\n",
              "    <tr>\n",
              "      <th>2</th>\n",
              "      <td>Seriously, why aren't you at Comfort?\\n\\nTonight was a special occasion, and we wanted to try something new.  Yelp led us to Comfort.   So worth it!\\n\\nThis is a new place, and I guess Watertown i...</td>\n",
              "      <td>1</td>\n",
              "      <td>en</td>\n",
              "    </tr>\n",
              "    <tr>\n",
              "      <th>3</th>\n",
              "      <td>A few months back i went in for a toothache and ended up needing a root canal after diagnosis from Dr. Austria. the front desk then comes to me while I'm still in the chair stating it'll cost $140...</td>\n",
              "      <td>0</td>\n",
              "      <td>en</td>\n",
              "    </tr>\n",
              "    <tr>\n",
              "      <th>4</th>\n",
              "      <td>Might be helpful if you were looking to buy, but if you need help with something you currently have then good luck getting any help or response.  I walked into this place around 5:30p on a Tuesday...</td>\n",
              "      <td>0</td>\n",
              "      <td>en</td>\n",
              "    </tr>\n",
              "  </tbody>\n",
              "</table>\n",
              "</div>"
            ],
            "text/plain": [
              "                                                                                                                                                                                                      text  ...  lang\n",
              "0  This place used to be a cool, chill place. Now its a bunch of neanderthal bouncers hopped up on steroids acting like the can do whatever they want. There are so many better places in davis square ...  ...    en\n",
              "1  best pizza on a busy street! my kids love it. i've been recommending to everyone who has a birthday party in that area to order from pizzapalooza and they are not disappointed. the pizza is thick,...  ...    en\n",
              "2  Seriously, why aren't you at Comfort?\\n\\nTonight was a special occasion, and we wanted to try something new.  Yelp led us to Comfort.   So worth it!\\n\\nThis is a new place, and I guess Watertown i...  ...    en\n",
              "3  A few months back i went in for a toothache and ended up needing a root canal after diagnosis from Dr. Austria. the front desk then comes to me while I'm still in the chair stating it'll cost $140...  ...    en\n",
              "4  Might be helpful if you were looking to buy, but if you need help with something you currently have then good luck getting any help or response.  I walked into this place around 5:30p on a Tuesday...  ...    en\n",
              "\n",
              "[5 rows x 3 columns]"
            ]
          },
          "metadata": {},
          "execution_count": 6
        }
      ]
    },
    {
      "cell_type": "code",
      "metadata": {
        "id": "fR0MBkkUDz5Y",
        "colab": {
          "base_uri": "https://localhost:8080/"
        },
        "outputId": "709e9405-1e5d-44ed-fdfc-c0e88e14ba75"
      },
      "source": [
        "# define X and y\n",
        "X = yelp['text']\n",
        "y = yelp['label']\n",
        "\n",
        "print(f\"X Shape: {X.shape}\")\n",
        "print(f\"y Shape: {y.shape}\")"
      ],
      "execution_count": 7,
      "outputs": [
        {
          "output_type": "stream",
          "name": "stdout",
          "text": [
            "X Shape: (251393,)\n",
            "y Shape: (251393,)\n"
          ]
        }
      ]
    },
    {
      "cell_type": "code",
      "metadata": {
        "id": "rMvcEBT2Dz3P",
        "colab": {
          "base_uri": "https://localhost:8080/"
        },
        "outputId": "a3f93ab2-f9d9-470d-e6b5-a93dd374807b"
      },
      "source": [
        "# split X and y into training and testing sets\n",
        "X_train, X_test, y_train, y_test = train_test_split(X, y, random_state=1)\n",
        "\n",
        "print(f\"Training records, X_train: {X_train.shape} y_train: {y_train.shape}\")\n",
        "print(f\"Testing records, X_test: {X_test.shape} y_test: {y_test.shape}\")"
      ],
      "execution_count": 8,
      "outputs": [
        {
          "output_type": "stream",
          "name": "stdout",
          "text": [
            "Training records, X_train: (188544,) y_train: (188544,)\n",
            "Testing records, X_test: (62849,) y_test: (62849,)\n"
          ]
        }
      ]
    },
    {
      "cell_type": "markdown",
      "metadata": {
        "id": "T1251R4SEJk1"
      },
      "source": [
        "## Initialize vectorizer\n"
      ]
    },
    {
      "cell_type": "code",
      "metadata": {
        "id": "moD0DAHXDz07"
      },
      "source": [
        "vect = CountVectorizer()\n",
        "\n",
        "# vect = CountVectorizer(lowercase=False, stop_words='english',\n",
        "#                                   max_df=0.8, min_df=0.2, max_features=10000, ngram_range=(1,3))\n",
        "\n",
        "vect = CountVectorizer(lowercase=False, stop_words='english', ngram_range=(1,3))"
      ],
      "execution_count": 9,
      "outputs": []
    },
    {
      "cell_type": "markdown",
      "metadata": {
        "id": "sgMhQ1PyEODJ"
      },
      "source": [
        "## Part 4: Building and evaluating BERT Classifier using ktrain package\n"
      ]
    },
    {
      "cell_type": "code",
      "metadata": {
        "id": "rYhTT5J3Dzxi"
      },
      "source": [
        "import warnings\n",
        "# warnings.filterwarnings('ignore')\n",
        "\n",
        "import re\n",
        "\n",
        "from sklearn import preprocessing\n",
        "from sklearn.model_selection import train_test_split\n",
        "\n",
        "import tensorflow as tf\n",
        "from keras.preprocessing.text import Tokenizer, text_to_word_sequence\n"
      ],
      "execution_count": 10,
      "outputs": []
    },
    {
      "cell_type": "code",
      "metadata": {
        "id": "EMn54WcuDzvO"
      },
      "source": [
        "#!pip install ktrain"
      ],
      "execution_count": 11,
      "outputs": []
    },
    {
      "cell_type": "code",
      "metadata": {
        "id": "IdtL4gCxDztX"
      },
      "source": [
        "import ktrain\n",
        "from ktrain import text"
      ],
      "execution_count": 12,
      "outputs": []
    },
    {
      "cell_type": "markdown",
      "metadata": {
        "id": "3zh2GormNrQE"
      },
      "source": [
        "#### Check available text classifiers in ktrain"
      ]
    },
    {
      "cell_type": "code",
      "metadata": {
        "id": "e6q6-Xl1Dzo3",
        "colab": {
          "base_uri": "https://localhost:8080/"
        },
        "outputId": "5ef5df0f-abec-467a-8558-ef72407b8794"
      },
      "source": [
        "text.print_text_classifiers()"
      ],
      "execution_count": 13,
      "outputs": [
        {
          "output_type": "stream",
          "name": "stdout",
          "text": [
            "fasttext: a fastText-like model [http://arxiv.org/pdf/1607.01759.pdf]\n",
            "logreg: logistic regression using a trainable Embedding layer\n",
            "nbsvm: NBSVM model [http://www.aclweb.org/anthology/P12-2018]\n",
            "bigru: Bidirectional GRU with pretrained fasttext word vectors [https://fasttext.cc/docs/en/crawl-vectors.html]\n",
            "standard_gru: simple 2-layer GRU with randomly initialized embeddings\n",
            "bert: Bidirectional Encoder Representations from Transformers (BERT) from keras_bert [https://arxiv.org/abs/1810.04805]\n",
            "distilbert: distilled, smaller, and faster BERT from Hugging Face transformers [https://arxiv.org/abs/1910.01108]\n"
          ]
        }
      ]
    },
    {
      "cell_type": "markdown",
      "metadata": {
        "id": "WBPbFbGYNuPk"
      },
      "source": [
        "### Prepare source data"
      ]
    },
    {
      "cell_type": "code",
      "metadata": {
        "id": "ZAt4C4zhDzm_",
        "colab": {
          "base_uri": "https://localhost:8080/",
          "height": 287
        },
        "outputId": "4f09f0d2-f309-44ac-cddb-de228c004832"
      },
      "source": [
        "sentiment = {0: \"Negative\", 1: \"Positive\"}\n",
        "yelp['sentiment'] = yelp['label'].map(sentiment)\n",
        "\n",
        "df = yelp[['text', 'sentiment']].rename(columns={'text':'data', 'sentiment':'target'})\n",
        "\n",
        "df.head(5)"
      ],
      "execution_count": 14,
      "outputs": [
        {
          "output_type": "execute_result",
          "data": {
            "text/html": [
              "<div>\n",
              "<style scoped>\n",
              "    .dataframe tbody tr th:only-of-type {\n",
              "        vertical-align: middle;\n",
              "    }\n",
              "\n",
              "    .dataframe tbody tr th {\n",
              "        vertical-align: top;\n",
              "    }\n",
              "\n",
              "    .dataframe thead th {\n",
              "        text-align: right;\n",
              "    }\n",
              "</style>\n",
              "<table border=\"1\" class=\"dataframe\">\n",
              "  <thead>\n",
              "    <tr style=\"text-align: right;\">\n",
              "      <th></th>\n",
              "      <th>data</th>\n",
              "      <th>target</th>\n",
              "    </tr>\n",
              "  </thead>\n",
              "  <tbody>\n",
              "    <tr>\n",
              "      <th>0</th>\n",
              "      <td>This place used to be a cool, chill place. Now its a bunch of neanderthal bouncers hopped up on steroids acting like the can do whatever they want. There are so many better places in davis square ...</td>\n",
              "      <td>Negative</td>\n",
              "    </tr>\n",
              "    <tr>\n",
              "      <th>1</th>\n",
              "      <td>best pizza on a busy street! my kids love it. i've been recommending to everyone who has a birthday party in that area to order from pizzapalooza and they are not disappointed. the pizza is thick,...</td>\n",
              "      <td>Positive</td>\n",
              "    </tr>\n",
              "    <tr>\n",
              "      <th>2</th>\n",
              "      <td>Seriously, why aren't you at Comfort?\\n\\nTonight was a special occasion, and we wanted to try something new.  Yelp led us to Comfort.   So worth it!\\n\\nThis is a new place, and I guess Watertown i...</td>\n",
              "      <td>Positive</td>\n",
              "    </tr>\n",
              "    <tr>\n",
              "      <th>3</th>\n",
              "      <td>A few months back i went in for a toothache and ended up needing a root canal after diagnosis from Dr. Austria. the front desk then comes to me while I'm still in the chair stating it'll cost $140...</td>\n",
              "      <td>Negative</td>\n",
              "    </tr>\n",
              "    <tr>\n",
              "      <th>4</th>\n",
              "      <td>Might be helpful if you were looking to buy, but if you need help with something you currently have then good luck getting any help or response.  I walked into this place around 5:30p on a Tuesday...</td>\n",
              "      <td>Negative</td>\n",
              "    </tr>\n",
              "  </tbody>\n",
              "</table>\n",
              "</div>"
            ],
            "text/plain": [
              "                                                                                                                                                                                                      data    target\n",
              "0  This place used to be a cool, chill place. Now its a bunch of neanderthal bouncers hopped up on steroids acting like the can do whatever they want. There are so many better places in davis square ...  Negative\n",
              "1  best pizza on a busy street! my kids love it. i've been recommending to everyone who has a birthday party in that area to order from pizzapalooza and they are not disappointed. the pizza is thick,...  Positive\n",
              "2  Seriously, why aren't you at Comfort?\\n\\nTonight was a special occasion, and we wanted to try something new.  Yelp led us to Comfort.   So worth it!\\n\\nThis is a new place, and I guess Watertown i...  Positive\n",
              "3  A few months back i went in for a toothache and ended up needing a root canal after diagnosis from Dr. Austria. the front desk then comes to me while I'm still in the chair stating it'll cost $140...  Negative\n",
              "4  Might be helpful if you were looking to buy, but if you need help with something you currently have then good luck getting any help or response.  I walked into this place around 5:30p on a Tuesday...  Negative"
            ]
          },
          "metadata": {},
          "execution_count": 14
        }
      ]
    },
    {
      "cell_type": "code",
      "metadata": {
        "id": "jh0lheHQDzkr",
        "colab": {
          "base_uri": "https://localhost:8080/",
          "height": 142
        },
        "outputId": "dd6e09b3-c7d2-4282-a5c8-1271a73a6ce9"
      },
      "source": [
        "df.groupby(['target']).count()"
      ],
      "execution_count": 15,
      "outputs": [
        {
          "output_type": "execute_result",
          "data": {
            "text/html": [
              "<div>\n",
              "<style scoped>\n",
              "    .dataframe tbody tr th:only-of-type {\n",
              "        vertical-align: middle;\n",
              "    }\n",
              "\n",
              "    .dataframe tbody tr th {\n",
              "        vertical-align: top;\n",
              "    }\n",
              "\n",
              "    .dataframe thead th {\n",
              "        text-align: right;\n",
              "    }\n",
              "</style>\n",
              "<table border=\"1\" class=\"dataframe\">\n",
              "  <thead>\n",
              "    <tr style=\"text-align: right;\">\n",
              "      <th></th>\n",
              "      <th>data</th>\n",
              "    </tr>\n",
              "    <tr>\n",
              "      <th>target</th>\n",
              "      <th></th>\n",
              "    </tr>\n",
              "  </thead>\n",
              "  <tbody>\n",
              "    <tr>\n",
              "      <th>Negative</th>\n",
              "      <td>125449</td>\n",
              "    </tr>\n",
              "    <tr>\n",
              "      <th>Positive</th>\n",
              "      <td>125944</td>\n",
              "    </tr>\n",
              "  </tbody>\n",
              "</table>\n",
              "</div>"
            ],
            "text/plain": [
              "            data\n",
              "target          \n",
              "Negative  125449\n",
              "Positive  125944"
            ]
          },
          "metadata": {},
          "execution_count": 15
        }
      ]
    },
    {
      "cell_type": "markdown",
      "metadata": {
        "id": "S5YHvSFGOETy"
      },
      "source": [
        "## STEP 1:  Load and Preprocess the Dataset\n",
        "\n",
        "Preprocessing the data using the texts_from_array function"
      ]
    },
    {
      "cell_type": "code",
      "metadata": {
        "id": "UE5yiup7DziC",
        "colab": {
          "base_uri": "https://localhost:8080/",
          "height": 544
        },
        "outputId": "a62daa78-3f7b-4161-b5dd-cb7cad1bd1b7"
      },
      "source": [
        "maxLen = 200 #each document can be of most <maxLen> words. 0 is used as padding ID.\n",
        "nGramRange = 1 #size of multi-word phrases to consider\n",
        "preprocessMode='bert' #Either 'standard' (normal tokenization) or 'bert' tokenization and preprocessing for use with BERT text classification model.\n",
        "sampleSize = 0.3 #Proportion of training to use for validation\n",
        "\n",
        "(x_train,  y_train), (x_test, y_test), preproc = text.texts_from_df(train_df = df, \n",
        "                                                                    text_column  = 'data', \n",
        "                                                                    label_columns = ['target'],\n",
        "                                                                       val_pct=sampleSize,\n",
        "                                                                       preprocess_mode=preprocessMode, #text must be preprocessed in a specific way for use with BERT\n",
        "                                                                       maxlen=maxLen)"
      ],
      "execution_count": 16,
      "outputs": [
        {
          "metadata": {
            "tags": null
          },
          "name": "stdout",
          "output_type": "stream",
          "text": [
            "['Negative', 'Positive']\n",
            "        Negative  Positive\n",
            "64726        0.0       1.0\n",
            "119754       0.0       1.0\n",
            "218792       0.0       1.0\n",
            "76055        0.0       1.0\n",
            "213697       1.0       0.0\n",
            "['Negative', 'Positive']\n",
            "        Negative  Positive\n",
            "71651        0.0       1.0\n",
            "227256       0.0       1.0\n",
            "95149        1.0       0.0\n",
            "3375         1.0       0.0\n",
            "179616       0.0       1.0\n",
            "downloading pretrained BERT model (uncased_L-12_H-768_A-12.zip)...\n",
            "[██████████████████████████████████████████████████]\n",
            "extracting pretrained BERT model...\n",
            "done.\n",
            "\n",
            "cleanup downloaded zip...\n",
            "done.\n",
            "\n",
            "preprocessing train...\n",
            "language: en\n"
          ]
        },
        {
          "data": {
            "text/html": [
              "\n",
              "    <div>\n",
              "        <style>\n",
              "            /* Turns off some styling */\n",
              "            progress {\n",
              "                /* gets rid of default border in Firefox and Opera. */\n",
              "                border: none;\n",
              "                /* Needs to be in here for Safari polyfill so background images work as expected. */\n",
              "                background-size: auto;\n",
              "            }\n",
              "            .progress-bar-interrupted, .progress-bar-interrupted::-webkit-progress-bar {\n",
              "                background: #F44336;\n",
              "            }\n",
              "        </style>\n",
              "      <progress value='0' class='' max='1' style='width:300px; height:20px; vertical-align: middle;'></progress>\n",
              "      0.00% [0/1 00:00<00:00]\n",
              "    </div>\n",
              "    \n",
              "\n",
              "\n",
              "    <div>\n",
              "        <style>\n",
              "            /* Turns off some styling */\n",
              "            progress {\n",
              "                /* gets rid of default border in Firefox and Opera. */\n",
              "                border: none;\n",
              "                /* Needs to be in here for Safari polyfill so background images work as expected. */\n",
              "                background-size: auto;\n",
              "            }\n",
              "            .progress-bar-interrupted, .progress-bar-interrupted::-webkit-progress-bar {\n",
              "                background: #F44336;\n",
              "            }\n",
              "        </style>\n",
              "      <progress value='88202' class='' max='175975' style='width:300px; height:20px; vertical-align: middle;'></progress>\n",
              "      50.12% [88202/175975 02:05<02:05]\n",
              "    </div>\n",
              "    "
            ],
            "text/plain": [
              "<IPython.core.display.HTML object>"
            ]
          },
          "metadata": {},
          "output_type": "display_data"
        },
        {
          "output_type": "display_data",
          "data": {
            "text/html": [
              "done."
            ],
            "text/plain": [
              "<IPython.core.display.HTML object>"
            ]
          },
          "metadata": {}
        },
        {
          "output_type": "stream",
          "name": "stdout",
          "text": [
            "Is Multi-Label? False\n",
            "preprocessing test...\n",
            "language: en\n"
          ]
        },
        {
          "output_type": "display_data",
          "data": {
            "text/html": [
              "done."
            ],
            "text/plain": [
              "<IPython.core.display.HTML object>"
            ]
          },
          "metadata": {}
        }
      ]
    },
    {
      "cell_type": "code",
      "metadata": {
        "id": "ujdtm-_1Qyny"
      },
      "source": [
        "# maxFeatures = 20000 #num of words to consider in vocabulary\n",
        "# maxLen = 200 #each document can be of most <maxLen> words. 0 is used as padding ID.\n",
        "# nGramRange = 1 #size of multi-word phrases to consider\n",
        "# preprocessMode='standard' #Either 'standard' (normal tokenization) or 'bert' tokenization and preprocessing for use with BERT text classification model.\n",
        "# sampleSize = 0.3 #Proportion of training to use for validation\n",
        "\n",
        "# (x_train,  y_train), (x_test, y_test), preproc = text.texts_from_df(train_df = df, \n",
        "#                                                                     text_column  = 'data', \n",
        "#                                                                     label_columns = ['target'],\n",
        "#                                                                        val_pct=sampleSize,\n",
        "#                                                                        preprocess_mode=preprocessMode, #text must be preprocessed in a specific way for use with BERT\n",
        "#                                                                        maxlen=maxLen, \n",
        "#                                                                        max_features=maxFeatures)"
      ],
      "execution_count": null,
      "outputs": []
    },
    {
      "cell_type": "markdown",
      "metadata": {
        "id": "euZDhOJmOOE1"
      },
      "source": [
        "## STEP 2:  Loading a pretrained BERT model and wrap it in a `ktrain.Learner` object\n"
      ]
    },
    {
      "cell_type": "code",
      "metadata": {
        "id": "95_-9Eu3Dzf9",
        "colab": {
          "base_uri": "https://localhost:8080/"
        },
        "outputId": "4acb31a2-d0e4-4a7b-a165-a04d729cbd34"
      },
      "source": [
        "model = text.text_classifier('bert', (x_train, y_train), preproc=preproc)"
      ],
      "execution_count": 17,
      "outputs": [
        {
          "output_type": "stream",
          "name": "stdout",
          "text": [
            "Is Multi-Label? False\n",
            "maxlen is 200\n",
            "done.\n"
          ]
        }
      ]
    },
    {
      "cell_type": "code",
      "metadata": {
        "id": "YHXZsNNRQ_Nr"
      },
      "source": [
        "# model = text.text_classifier('bigru', (x_train, y_train), preproc=preproc)"
      ],
      "execution_count": 18,
      "outputs": []
    },
    {
      "cell_type": "code",
      "metadata": {
        "id": "1U9qkbFCDzcm"
      },
      "source": [
        "batchSize = 16 ### Check best size\n",
        "\n",
        "learner = ktrain.get_learner(model, \n",
        "                             train_data=(x_train, y_train), \n",
        "                             val_data=(x_test, y_test), \n",
        "                             batch_size=batchSize)"
      ],
      "execution_count": 19,
      "outputs": []
    },
    {
      "cell_type": "code",
      "metadata": {
        "id": "xrCB--RwRDhd"
      },
      "source": [
        "# batchSize = 64 ### Check best size\n",
        "\n",
        "# learner = ktrain.get_learner(model, \n",
        "#                              train_data=(x_train, y_train), \n",
        "#                              val_data=(x_test, y_test), \n",
        "#                              batch_size=batchSize)"
      ],
      "execution_count": null,
      "outputs": []
    },
    {
      "cell_type": "markdown",
      "metadata": {
        "id": "wlNRpXbnOTw3"
      },
      "source": [
        "## STEP 3: Train the Model\n",
        "\n",
        "Recommended in the BERT paper: *5e-5*, *3e-5*, or *2e-5*.\n",
        "\n",
        "I could have used the ktrain Learning Rate Finder can be used to find a good learning rate by invoking `learner.lr_find()` and `learner.lr_plot()`, prior to training but it would take far more time than it's worth.\n",
        "\n",
        "The `learner.fit_onecycle` method employs a [1cycle learning rate policy](https://arxiv.org/pdf/1803.09820.pdf)."
      ]
    },
    {
      "cell_type": "code",
      "metadata": {
        "id": "F0lwj7OLDzaO",
        "colab": {
          "base_uri": "https://localhost:8080/"
        },
        "outputId": "59d86d0b-63f0-4343-fae1-faa7b0fe37db"
      },
      "source": [
        "learningRate = 2e-5\n",
        "numEpoch = 3\n",
        "\n",
        "learner.fit_onecycle(learningRate, numEpoch)\n",
        "#learner.autofit(learningRate, numEpoch)\n",
        "ktrain.get_predictor(model, preproc).save('/content/drive/MyDrive/bert_yelp_predictor1')"
      ],
      "execution_count": 20,
      "outputs": [
        {
          "output_type": "stream",
          "name": "stdout",
          "text": [
            "\n",
            "\n",
            "begin training using onecycle policy with max lr of 2e-05...\n",
            "Epoch 1/3\n",
            "10999/10999 [==============================] - 2960s 267ms/step - loss: 0.0575 - accuracy: 0.9800 - val_loss: 0.0405 - val_accuracy: 0.9862\n",
            "Epoch 2/3\n",
            "10999/10999 [==============================] - 2937s 267ms/step - loss: 0.0296 - accuracy: 0.9901 - val_loss: 0.0296 - val_accuracy: 0.9904\n",
            "Epoch 3/3\n",
            "10999/10999 [==============================] - 2938s 267ms/step - loss: 0.0085 - accuracy: 0.9975 - val_loss: 0.0357 - val_accuracy: 0.9908\n"
          ]
        },
        {
          "output_type": "stream",
          "name": "stderr",
          "text": [
            "/usr/local/lib/python3.7/dist-packages/keras/utils/generic_utils.py:497: CustomMaskWarning: Custom mask layers require a config and must override get_config. When loading, the custom mask layer must be passed to the custom_objects argument.\n",
            "  category=CustomMaskWarning)\n"
          ]
        }
      ]
    },
    {
      "cell_type": "code",
      "metadata": {
        "id": "A9iQTjV6StQZ"
      },
      "source": [
        "# # reload Predictor and extract model\n",
        "# model = ktrain.load_predictor('/content/drive/MyDrive/bert_yelp_predictor').model\n",
        "\n",
        "# # re-instantiate Learner and continue training\n",
        "# learner = ktrain.get_learner(model, train_data=(x_train, y_train), val_data=(x_test, y_test), batch_size=batchSize)\n",
        "# #learner.fit_onecycle(learningRate, numEpoch)\n",
        "# learner.autofit(learningRate, numEpoch)\n",
        "# ktrain.get_predictor(model, preproc).save('/content/drive/MyDrive/bert_yelp_predictor')"
      ],
      "execution_count": null,
      "outputs": []
    },
    {
      "cell_type": "code",
      "metadata": {
        "id": "Vf4yk8UZTQi7"
      },
      "source": [
        ""
      ],
      "execution_count": null,
      "outputs": []
    },
    {
      "cell_type": "code",
      "metadata": {
        "id": "oknl32XuRKQl"
      },
      "source": [
        "# learningRate = 0.001\n",
        "# numEpoch = 3\n",
        "\n",
        "# # learner.fit_onecycle(learningRate, numEpoch)\n",
        "# learner.autofit(learningRate, numEpoch)"
      ],
      "execution_count": null,
      "outputs": []
    },
    {
      "cell_type": "code",
      "metadata": {
        "id": "RTydUc4AOb7d",
        "colab": {
          "base_uri": "https://localhost:8080/"
        },
        "outputId": "e605c9bf-7b17-48ce-bea0-0e019f87a5eb"
      },
      "source": [
        "learner.validate(val_data=(x_test, y_test))"
      ],
      "execution_count": 23,
      "outputs": [
        {
          "metadata": {
            "tags": null
          },
          "name": "stdout",
          "output_type": "stream",
          "text": [
            "              precision    recall  f1-score   support\n",
            "\n",
            "           0       0.99      0.99      0.99     37691\n",
            "           1       0.99      0.99      0.99     37727\n",
            "\n",
            "    accuracy                           0.99     75418\n",
            "   macro avg       0.99      0.99      0.99     75418\n",
            "weighted avg       0.99      0.99      0.99     75418\n",
            "\n"
          ]
        },
        {
          "data": {
            "text/plain": [
              "array([[37427,   264],\n",
              "       [  428, 37299]])"
            ]
          },
          "execution_count": null,
          "metadata": {},
          "output_type": "execute_result"
        }
      ]
    }
  ]
}