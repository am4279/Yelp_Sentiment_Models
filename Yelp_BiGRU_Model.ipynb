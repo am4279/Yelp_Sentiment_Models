{
  "nbformat": 4,
  "nbformat_minor": 0,
  "metadata": {
    "colab": {
      "name": "Yelp_BiGRU_Model.ipynb",
      "provenance": [],
      "authorship_tag": "ABX9TyPPg2zBU+7excFfCHV736g6",
      "include_colab_link": true
    },
    "kernelspec": {
      "name": "python3",
      "display_name": "Python 3"
    },
    "language_info": {
      "name": "python"
    },
    "accelerator": "GPU"
  },
  "cells": [
    {
      "cell_type": "markdown",
      "metadata": {
        "id": "view-in-github",
        "colab_type": "text"
      },
      "source": [
        "<a href=\"https://colab.research.google.com/github/am4279/Yelp_Sentiment_Models/blob/main/Yelp_BiGRU_Model.ipynb\" target=\"_parent\"><img src=\"https://colab.research.google.com/assets/colab-badge.svg\" alt=\"Open In Colab\"/></a>"
      ]
    },
    {
      "cell_type": "markdown",
      "metadata": {
        "id": "jjhd20VO7YKe"
      },
      "source": [
        "\n",
        "\n",
        "#Building the Yelp Sentiment Model\n",
        "\n",
        "## Data Prep"
      ]
    },
    {
      "cell_type": "code",
      "metadata": {
        "colab": {
          "base_uri": "https://localhost:8080/"
        },
        "id": "nJCVUlNR7YKg",
        "outputId": "d25fb322-1c82-455a-a99e-ca93d130a075"
      },
      "source": [
        "from google.colab import drive\n",
        "drive.mount('/content/drive')"
      ],
      "execution_count": 1,
      "outputs": [
        {
          "output_type": "stream",
          "name": "stdout",
          "text": [
            "Drive already mounted at /content/drive; to attempt to forcibly remount, call drive.mount(\"/content/drive\", force_remount=True).\n"
          ]
        }
      ]
    },
    {
      "cell_type": "code",
      "metadata": {
        "id": "0B96YBVw7YKh"
      },
      "source": [
        "#!tar -xvf  '/content/drive/My Drive/yelp_dataset.tar' #-C 'content/drive/My Drive/yelp_reviews'"
      ],
      "execution_count": 2,
      "outputs": []
    },
    {
      "cell_type": "code",
      "metadata": {
        "id": "BYF-6lBu7YKh"
      },
      "source": [
        "import pandas as pd\n",
        "\n",
        "# DATA_PATH = '/content/drive/MyDrive/yelp_academic_dataset_review.json'\n",
        "# data = pd.read_json(DATA_PATH, orient='records', lines=True)\n",
        "# data.shape"
      ],
      "execution_count": 2,
      "outputs": []
    },
    {
      "cell_type": "markdown",
      "metadata": {
        "id": "TttfDX8w7YKh"
      },
      "source": [
        "### Initializing a Spark kernel to operate on a file this size"
      ]
    },
    {
      "cell_type": "code",
      "metadata": {
        "id": "-EEWG6w27YKh"
      },
      "source": [
        "!pip install pyspark\n",
        "!pip install langdetect"
      ],
      "execution_count": null,
      "outputs": []
    },
    {
      "cell_type": "code",
      "metadata": {
        "id": "GPriTr_S7YKh"
      },
      "source": [
        "from pyspark.sql.functions import *\n",
        "from pyspark.sql.types import *"
      ],
      "execution_count": null,
      "outputs": []
    },
    {
      "cell_type": "code",
      "metadata": {
        "id": "eiXmvPWD7YKh"
      },
      "source": [
        "import numpy as np"
      ],
      "execution_count": 3,
      "outputs": []
    },
    {
      "cell_type": "code",
      "metadata": {
        "id": "rPqUUQtq7YKi"
      },
      "source": [
        "from langdetect import detect"
      ],
      "execution_count": null,
      "outputs": []
    },
    {
      "cell_type": "code",
      "metadata": {
        "id": "-LcXwhZI7YKi"
      },
      "source": [
        "!apt-get install openjdk-8-jdk-headless -qq > /dev/null\n"
      ],
      "execution_count": null,
      "outputs": []
    },
    {
      "cell_type": "code",
      "metadata": {
        "id": "oD5bLMVK7YKi"
      },
      "source": [
        "!wget -q https://mirror.cogentco.com/pub/apache/spark/spark-3.1.2/spark-3.1.2-bin-hadoop3.2.tgz\n"
      ],
      "execution_count": null,
      "outputs": []
    },
    {
      "cell_type": "code",
      "metadata": {
        "id": "knBnyw6G7YKi"
      },
      "source": [
        "!tar xf spark-3.1.2-bin-hadoop3.2.tgz\n"
      ],
      "execution_count": null,
      "outputs": []
    },
    {
      "cell_type": "code",
      "metadata": {
        "id": "D8t8Z43L7YKi"
      },
      "source": [
        "!pip install -q findspark\n"
      ],
      "execution_count": null,
      "outputs": []
    },
    {
      "cell_type": "code",
      "metadata": {
        "id": "W6DmUbVi7YKi"
      },
      "source": [
        "import os\n",
        "os.environ[\"JAVA_HOME\"] = \"/usr/lib/jvm/java-8-openjdk-amd64\"\n",
        "os.environ[\"SPARK_HOME\"] = \"/content/spark-3.1.2-bin-hadoop3.2\""
      ],
      "execution_count": null,
      "outputs": []
    },
    {
      "cell_type": "code",
      "metadata": {
        "id": "mld3MjXQ7YKi"
      },
      "source": [
        "import findspark\n",
        "findspark.init()"
      ],
      "execution_count": null,
      "outputs": []
    },
    {
      "cell_type": "code",
      "metadata": {
        "id": "hfgYJkYJ7YKi"
      },
      "source": [
        "from pyspark.sql import SparkSession\n",
        "\n",
        "spark = SparkSession.builder\\\n",
        "        .master(\"local\")\\\n",
        "        .appName(\"Colab\")\\\n",
        "        .config('spark.ui.port', '4050')\\\n",
        "        .getOrCreate()\n"
      ],
      "execution_count": null,
      "outputs": []
    },
    {
      "cell_type": "code",
      "metadata": {
        "id": "7KnMeyDj7YKi"
      },
      "source": [
        "spark.conf.set(\"spark.sql.repl.eagerEval.enabled\",True)"
      ],
      "execution_count": null,
      "outputs": []
    },
    {
      "cell_type": "code",
      "metadata": {
        "id": "HAxXhPXk7YKj"
      },
      "source": [
        "review = spark.read.json('/content/drive/MyDrive/yelp_academic_dataset_review.json')"
      ],
      "execution_count": null,
      "outputs": []
    },
    {
      "cell_type": "code",
      "metadata": {
        "id": "XegIs-z67YKj"
      },
      "source": [
        "review.count()"
      ],
      "execution_count": null,
      "outputs": []
    },
    {
      "cell_type": "code",
      "metadata": {
        "colab": {
          "base_uri": "https://localhost:8080/"
        },
        "id": "we5ANNsf7YKj",
        "outputId": "47c95773-7746-40b2-f731-a02f3242357b"
      },
      "source": [
        "review.head(10)"
      ],
      "execution_count": null,
      "outputs": [
        {
          "output_type": "execute_result",
          "data": {
            "text/plain": [
              "[Row(business_id='buF9druCkbuXLX526sGELQ', cool=1, date='2014-10-11 03:34:02', funny=1, review_id='lWC-xP3rd6obsecCYsGZRg', stars=4.0, text=\"Apparently Prides Osteria had a rough summer as evidenced by the almost empty dining room at 6:30 on a Friday night. However new blood in the kitchen seems to have revitalized the food from other customers recent visits. Waitstaff was warm but unobtrusive. By 8 pm or so when we left the bar was full and the dining room was much more lively than it had been. Perhaps Beverly residents prefer a later seating. \\n\\nAfter reading the mixed reviews of late I was a little tentative over our choice but luckily there was nothing to worry about in the food department. We started with the fried dough, burrata and prosciutto which were all lovely. Then although they don't offer half portions of pasta we each ordered the entree size and split them. We chose the tagliatelle bolognese and a four cheese filled pasta in a creamy sauce with bacon, asparagus and grana frita. Both were very good. We split a secondi which was the special Berkshire pork secreto, which was described as a pork skirt steak with garlic potato purée and romanesco broccoli (incorrectly described as a romanesco sauce). Some tables received bread before the meal but for some reason we did not. \\n\\nManagement also seems capable for when the tenants in the apartment above began playing basketball she intervened and also comped the tables a dessert. We ordered the apple dumpling with gelato and it was also quite tasty. Portions are not huge which I particularly like because I prefer to order courses. If you are someone who orders just a meal you may leave hungry depending on you appetite. Dining room was mostly younger crowd while the bar was definitely the over 40 set. Would recommend that the naysayers return to see the improvement although I personally don't know the former glory to be able to compare. Easy access to downtown Salem without the crowds on this month of October.\", useful=3, user_id='ak0TdVmGKo4pwqdJSTLwWw'),\n",
              " Row(business_id='RA4V8pr014UyUbDvI-LW2A', cool=0, date='2015-07-03 20:38:25', funny=0, review_id='8bFej1QE5LXp4O05qjGqXA', stars=4.0, text='This store is pretty good. Not as great as Walmart (or my preferred, Milford Target), but closer and in a easier area to get to.  \\nThe store itself is pretty clean and organized, the staff are friendly (most of the time), and BEST of all is the Self Checkout this store has! \\nGreat clearance sections throughout, and great prices on everything in the store, in general (they pricematch too!). \\nChristian, Debbie, Jen and Hanna are all very friendly, helpful, sensitive to all customer needs. Definitely one of the better Target locations in the area, and they do a GREAT job assisting customers for being such a busy store. Located directly in the Framingham Mall on Cochituate Rd / Route 30. 4 stars.', useful=1, user_id='YoVfDbnISlW0f7abNQACIg'),\n",
              " Row(business_id='_sS2LBIGNT5NQb6PD1Vtjw', cool=0, date='2013-05-28 20:38:06', funny=0, review_id='NDhkzczKjLshODbqDoNLSg', stars=5.0, text=\"I called WVM on the recommendation of a couple of friends who had used them in the past and thought they did a nice job. I'm a fan now, too.\\n\\nEvan and Cody showed up right on time for my move this past weekend. They were friendly and energetic, working quickly but carefully to get all my things moved out of the old place and into the new one in less than 2.5 hours. All of my (heavy) furniture arrived in perfect condition, and they took extra care not to scratch the wood floors in the process.\\n\\nI hope not to move again anytime soon, but next time I do, I'll be calling WVM.\", useful=0, user_id='eC5evKn1TWDyHCyQAwguUw'),\n",
              " Row(business_id='0AzLzHfOJgL7ROwhdww2ew', cool=1, date='2010-01-08 02:29:15', funny=1, review_id='T5fAqjjFooT4V0OeZyuk1w', stars=2.0, text=\"I've stayed at many Marriott and Renaissance Marriott's and this was a huge disappointment! The front desk and atrium is nice..there is a starbucks on site which is nice.\\n\\nThe rooms are run down and old.  There is a flat screen but that is to be expected of a Renaissance.\\n\\nWe got this hotel via Priceline at a rate of $75/night...good deal for the price but this is not a true Renaissance.\", useful=1, user_id='SFQ1jcnGguO0LYWnbbftAA'),\n",
              " Row(business_id='8zehGz9jnxPqXtOc7KaJxA', cool=0, date='2011-07-28 18:05:01', funny=0, review_id='sjm_uUcQVxab_EeLCqsYLg', stars=4.0, text=\"The food is always great here. The service from both the manager as well as the staff is super. Only draw back of this restaurant is it's super loud. If you can, snag a patio table!\", useful=0, user_id='0kA0PAJ8QFMeveQWHFqz2A'),\n",
              " Row(business_id='xGXzsc-hzam-VArK6eTvtw', cool=0, date='2018-01-21 04:41:03', funny=0, review_id='J4a2TuhDasjn2k3wWtHZnQ', stars=1.0, text='This place used to be a cool, chill place. Now its a bunch of neanderthal bouncers hopped up on steroids acting like the can do whatever they want. There are so many better places in davis square where they are glad you are visiting their business. Sad that the burren is now the worst place in davis.', useful=2, user_id='RNm_RWkcd02Li2mKPRe7Eg'),\n",
              " Row(business_id='EXOsmAB1s71WePlQk0WZrA', cool=0, date='2006-04-16 02:58:44', funny=0, review_id='28gGfkLs3igtjVy61lh77Q', stars=2.0, text=\"The setting is perfectly adequate, and the food comes close.   The dining chains like Chilis and Victoria Station do barbecue better.\\n\\nIt's no surprise you can always pick up coupons for Linwood at restaurant.com.\", useful=0, user_id='Q8c91v7luItVB0cMFF_mRA'),\n",
              " Row(business_id='DbXHNl890xSXNiyRczLWAg', cool=0, date='2017-12-02 18:16:13', funny=0, review_id='9vqwvFCBG3FBiHGmOHMmiA', stars=5.0, text=\"Probably one of the better breakfast sandwiches I've ever had. I had the EGGMEATMUFFIN, the bread was toasted perfectly and the bacon was a real thick cut. Not that lame bacon we are more familiar with at your conventional breakfast diner. In addition, the place was clean and the staff was very helpful. The butcher had several different cuts available and was knowledgable as well as friendly. I left with some cuts of pork and beef and am excited to come back!\", useful=0, user_id='XGkAG92TQ3MQUKGX9sLUhw'),\n",
              " Row(business_id='mD-A9KOWADXvfrZfwDs-jw', cool=0, date='2012-05-28 15:00:47', funny=0, review_id='2l_TDrQ7p-5tANOyiOlkLQ', stars=4.0, text='I am definitely a fan of Sports Authority.  This particular location has a good check in deal.  We came here near Christmas time to buy some presents and we had a good experience.  The staff members were very friendly and they helped us find what we were looking for.  We got some golf stuff, two pairs of shoes, a tennis racket bag, and some bicycle accessories.  The store was clean and well organized.  They have everything from apparel to basketballs and everything in between.  Good spot to buy athletic merchandise.', useful=1, user_id='LWUnzwK0ILquLLZcHHE1Mw'),\n",
              " Row(business_id='EEHhKSxUvJkoPSzeGKkpVg', cool=0, date='2014-05-07 18:10:21', funny=0, review_id='KKVFopqzcVfcubIBxmIjVA', stars=5.0, text='I work in the Pru and this is the most affordable and tasty place in the food court.  deals where a meal is $5-$7 and the chicken pesto is really good.   I am not a chowda person but all there soups I have had are pretty damn good.  Broccoli chicken is my favorite.  Also, probably the most personable Food court staff I have ever had the pleasure of ordering from.', useful=0, user_id='99RsBrARhhx60UnAC4yDoA')]"
            ]
          },
          "metadata": {},
          "execution_count": 33
        }
      ]
    },
    {
      "cell_type": "code",
      "metadata": {
        "id": "D1Wm2VgW7YKj"
      },
      "source": [
        "review_sample.printSchema()"
      ],
      "execution_count": null,
      "outputs": []
    },
    {
      "cell_type": "code",
      "metadata": {
        "id": "TaUGaaSA7YKj"
      },
      "source": [
        "review_sample.describe(['stars']).show()"
      ],
      "execution_count": null,
      "outputs": []
    },
    {
      "cell_type": "code",
      "metadata": {
        "id": "JcMLmggc7YKj"
      },
      "source": [
        "review_sample.groupby('stars').agg(count('*').alias('record_cnt')).orderBy('stars', ascending=False).show()"
      ],
      "execution_count": null,
      "outputs": []
    },
    {
      "cell_type": "code",
      "metadata": {
        "id": "68JWg-vv7YKj"
      },
      "source": [
        "review = review.\\\n",
        "withColumn(\"sentiment_strength\",\\\n",
        "           when(col(\"stars\") == 1, \"Strong Negative\").\\\n",
        "           when(col(\"stars\") == 2, \"Negative\").\\\n",
        "           when(col(\"stars\") == 3, \"Neutral\").\\\n",
        "           when(col(\"stars\") == 4, \"Positive\").\\\n",
        "           when(col(\"stars\") == 5, \"Strong Positive\").\\\n",
        "           otherwise(\"No Sentiment\")).\\\n",
        "withColumn(\"label\",\\\n",
        "           when(col(\"stars\") == 1, 0).\\\n",
        "#            when(col(\"stars\") == 2, 0).\\\n",
        "#            when(col(\"stars\") == 3, 2).\\\n",
        "#            when(col(\"stars\") == 4, 1).\\\n",
        "           when(col(\"stars\") == 5, 1).\\\n",
        "           otherwise(3))"
      ],
      "execution_count": null,
      "outputs": []
    },
    {
      "cell_type": "code",
      "metadata": {
        "colab": {
          "base_uri": "https://localhost:8080/"
        },
        "id": "ezZmR7bh7YKk",
        "outputId": "01c5a27d-5a7c-4779-eba3-02dc6ce2a1f3"
      },
      "source": [
        "review.groupby('label').agg(count('*').alias('record_cnt')).orderBy('label', ascending=False).show()"
      ],
      "execution_count": null,
      "outputs": [
        {
          "output_type": "stream",
          "text": [
            "+-----+----------+\n",
            "|label|record_cnt|\n",
            "+-----+----------+\n",
            "|    3|   3558071|\n",
            "|    1|   3814532|\n",
            "|    0|   1262800|\n",
            "+-----+----------+\n",
            "\n"
          ],
          "name": "stdout"
        }
      ]
    },
    {
      "cell_type": "code",
      "metadata": {
        "id": "pWv-vn6K7YKk"
      },
      "source": [
        "trainingData = review.filter(review['label'] < 3).select('text', 'label')"
      ],
      "execution_count": null,
      "outputs": []
    },
    {
      "cell_type": "code",
      "metadata": {
        "colab": {
          "base_uri": "https://localhost:8080/",
          "height": 155
        },
        "id": "aoGAcWpn7YKk",
        "outputId": "e6dc3168-715b-4afb-d6ea-f20d533074cd"
      },
      "source": [
        "trainingData.limit(5)"
      ],
      "execution_count": null,
      "outputs": [
        {
          "output_type": "execute_result",
          "data": {
            "text/html": [
              "<table border='1'>\n",
              "<tr><th>text</th><th>label</th></tr>\n",
              "<tr><td>I called WVM on t...</td><td>1</td></tr>\n",
              "<tr><td>This place used t...</td><td>0</td></tr>\n",
              "<tr><td>Probably one of t...</td><td>1</td></tr>\n",
              "<tr><td>I work in the Pru...</td><td>1</td></tr>\n",
              "<tr><td>They NEVER seem t...</td><td>0</td></tr>\n",
              "</table>\n"
            ],
            "text/plain": [
              "+--------------------+-----+\n",
              "|                text|label|\n",
              "+--------------------+-----+\n",
              "|I called WVM on t...|    1|\n",
              "|This place used t...|    0|\n",
              "|Probably one of t...|    1|\n",
              "|I work in the Pru...|    1|\n",
              "|They NEVER seem t...|    0|\n",
              "+--------------------+-----+"
            ]
          },
          "metadata": {},
          "execution_count": 39
        }
      ]
    },
    {
      "cell_type": "markdown",
      "metadata": {
        "id": "AkQtNFVt7YKk"
      },
      "source": [
        "### Balance sample between classes"
      ]
    },
    {
      "cell_type": "code",
      "metadata": {
        "colab": {
          "base_uri": "https://localhost:8080/"
        },
        "id": "l5LPfJ9_7YKk",
        "outputId": "351f2c95-53f0-4b99-fd3c-4218b3906164"
      },
      "source": [
        "ratio_adjust = 1.0 ## ratio of pos to neg in the df_subsample\n",
        "\n",
        "\n",
        "counts = trainingData.groupBy('label').count().collect()\n",
        "\n",
        "if counts[0][1] > counts[1][1]:\n",
        "    down_class = counts[0][0]\n",
        "else:\n",
        "    down_class = counts[1][0]\n",
        "    \n",
        "\n",
        "higherBound = counts[0][1]\n",
        "treshold_to_filter = int(ratio_adjust * float(counts[1][1]) / counts[0][1] * higherBound)\n",
        " \n",
        "randGen = lambda x: np.random.randint(0, higherBound) if x == down_class else -1\n",
        " \n",
        "udfRandGen = udf(randGen, IntegerType())\n",
        "\n",
        "trainingData = trainingData.withColumn(\"randIndex\", udfRandGen(\"label\"))\n",
        "trainingData = trainingData.filter(trainingData['randIndex'] < treshold_to_filter).drop('randIndex')\n",
        " \n",
        "print(\"Distribution of Pos and Neg cases of the down-sampled training data are: \\n\", \\\n",
        "      trainingData.groupBy(\"label\").count().take(3))"
      ],
      "execution_count": null,
      "outputs": [
        {
          "output_type": "stream",
          "text": [
            "Distribution of Pos and Neg cases of the down-sampled training data are: \n",
            " [Row(label=1, count=1262267), Row(label=0, count=1262800)]\n"
          ],
          "name": "stdout"
        }
      ]
    },
    {
      "cell_type": "code",
      "metadata": {
        "id": "RcCg7RCf7YKk"
      },
      "source": [
        "trainingDataSample = trainingData.sample(False, 0.1, 12345)"
      ],
      "execution_count": null,
      "outputs": []
    },
    {
      "cell_type": "code",
      "metadata": {
        "colab": {
          "base_uri": "https://localhost:8080/"
        },
        "id": "MOPGPpE07YKk",
        "outputId": "aa7b3239-dcff-4d4e-a102-967b8f6a618d"
      },
      "source": [
        "trainingDataSample.count()"
      ],
      "execution_count": null,
      "outputs": [
        {
          "output_type": "execute_result",
          "data": {
            "text/plain": [
              "251744"
            ]
          },
          "metadata": {},
          "execution_count": 42
        }
      ]
    },
    {
      "cell_type": "code",
      "metadata": {
        "colab": {
          "base_uri": "https://localhost:8080/"
        },
        "id": "arvrMHa17YKl",
        "outputId": "b8620c4d-3f13-4d6b-b410-b78eeb6f8929"
      },
      "source": [
        "pd_reviews = trainingDataSample.toPandas()\n",
        "type(pd_reviews)"
      ],
      "execution_count": null,
      "outputs": [
        {
          "output_type": "execute_result",
          "data": {
            "text/plain": [
              "pandas.core.frame.DataFrame"
            ]
          },
          "metadata": {},
          "execution_count": 43
        }
      ]
    },
    {
      "cell_type": "code",
      "metadata": {
        "id": "yRF7V4tb7YKl"
      },
      "source": [
        "# pd_reviews.to_pickle('/temp/yelp_review.pkl')\n",
        "\n",
        "pd_reviews.to_json('/content/drive/MyDrive/yelp_review.json', orient='records', lines=True)"
      ],
      "execution_count": null,
      "outputs": []
    },
    {
      "cell_type": "code",
      "metadata": {
        "colab": {
          "base_uri": "https://localhost:8080/",
          "height": 203
        },
        "id": "o1eCabk_7YKl",
        "outputId": "47ee7999-a0db-4e52-f460-5d4d4502cdab"
      },
      "source": [
        "pd_reviews.head(5)"
      ],
      "execution_count": null,
      "outputs": [
        {
          "output_type": "execute_result",
          "data": {
            "text/html": [
              "<div>\n",
              "<style scoped>\n",
              "    .dataframe tbody tr th:only-of-type {\n",
              "        vertical-align: middle;\n",
              "    }\n",
              "\n",
              "    .dataframe tbody tr th {\n",
              "        vertical-align: top;\n",
              "    }\n",
              "\n",
              "    .dataframe thead th {\n",
              "        text-align: right;\n",
              "    }\n",
              "</style>\n",
              "<table border=\"1\" class=\"dataframe\">\n",
              "  <thead>\n",
              "    <tr style=\"text-align: right;\">\n",
              "      <th></th>\n",
              "      <th>text</th>\n",
              "      <th>label</th>\n",
              "    </tr>\n",
              "  </thead>\n",
              "  <tbody>\n",
              "    <tr>\n",
              "      <th>0</th>\n",
              "      <td>This place used to be a cool, chill place. Now...</td>\n",
              "      <td>0</td>\n",
              "    </tr>\n",
              "    <tr>\n",
              "      <th>1</th>\n",
              "      <td>best pizza on a busy street! my kids love it. ...</td>\n",
              "      <td>1</td>\n",
              "    </tr>\n",
              "    <tr>\n",
              "      <th>2</th>\n",
              "      <td>Seriously, why aren't you at Comfort?\\n\\nTonig...</td>\n",
              "      <td>1</td>\n",
              "    </tr>\n",
              "    <tr>\n",
              "      <th>3</th>\n",
              "      <td>A few months back i went in for a toothache an...</td>\n",
              "      <td>0</td>\n",
              "    </tr>\n",
              "    <tr>\n",
              "      <th>4</th>\n",
              "      <td>Might be helpful if you were looking to buy, b...</td>\n",
              "      <td>0</td>\n",
              "    </tr>\n",
              "  </tbody>\n",
              "</table>\n",
              "</div>"
            ],
            "text/plain": [
              "                                                text  label\n",
              "0  This place used to be a cool, chill place. Now...      0\n",
              "1  best pizza on a busy street! my kids love it. ...      1\n",
              "2  Seriously, why aren't you at Comfort?\\n\\nTonig...      1\n",
              "3  A few months back i went in for a toothache an...      0\n",
              "4  Might be helpful if you were looking to buy, b...      0"
            ]
          },
          "metadata": {},
          "execution_count": 45
        }
      ]
    },
    {
      "cell_type": "code",
      "metadata": {
        "colab": {
          "base_uri": "https://localhost:8080/"
        },
        "id": "8IAQWYe-7YKl",
        "outputId": "4666738d-42ad-4fca-a17a-033b3c91d2a3"
      },
      "source": [
        "pd_reviews.shape"
      ],
      "execution_count": null,
      "outputs": [
        {
          "output_type": "execute_result",
          "data": {
            "text/plain": [
              "(251784, 2)"
            ]
          },
          "metadata": {},
          "execution_count": 46
        }
      ]
    },
    {
      "cell_type": "markdown",
      "metadata": {
        "id": "fJBDjbAh7YKl"
      },
      "source": [
        "#### Saving the review DF with star ratings for multi-class classification"
      ]
    },
    {
      "cell_type": "code",
      "metadata": {
        "colab": {
          "base_uri": "https://localhost:8080/"
        },
        "id": "gtQu-tXn7YKl",
        "outputId": "f4e4b16a-9601-4634-ea59-f7903aacebd9"
      },
      "source": [
        "review_sample = review.sample(False, 0.05, 12345)\n",
        "review_sample.count()"
      ],
      "execution_count": null,
      "outputs": [
        {
          "output_type": "execute_result",
          "data": {
            "text/plain": [
              "432079"
            ]
          },
          "metadata": {},
          "execution_count": 47
        }
      ]
    },
    {
      "cell_type": "code",
      "metadata": {
        "id": "5bbyViWS7YKl"
      },
      "source": [
        "pd_stars = review_sample.select('text', 'sentiment_strength').toPandas()"
      ],
      "execution_count": null,
      "outputs": []
    },
    {
      "cell_type": "code",
      "metadata": {
        "id": "k4PkV_fM7YKm"
      },
      "source": [
        "# pd_stars.to_pickle('/temp/yelp_review_stars.pkl')\n",
        "\n",
        "pd_stars.to_json('/content/drive/MyDrive/yelp_review_stars.json', orient='records', lines=True)"
      ],
      "execution_count": null,
      "outputs": []
    },
    {
      "cell_type": "code",
      "metadata": {
        "colab": {
          "base_uri": "https://localhost:8080/",
          "height": 203
        },
        "id": "YNWvPM-e7YKp",
        "outputId": "023dc4dd-1938-4fdd-931a-d5cc62e658d6"
      },
      "source": [
        "pd_stars.head(5)"
      ],
      "execution_count": null,
      "outputs": [
        {
          "output_type": "execute_result",
          "data": {
            "text/html": [
              "<div>\n",
              "<style scoped>\n",
              "    .dataframe tbody tr th:only-of-type {\n",
              "        vertical-align: middle;\n",
              "    }\n",
              "\n",
              "    .dataframe tbody tr th {\n",
              "        vertical-align: top;\n",
              "    }\n",
              "\n",
              "    .dataframe thead th {\n",
              "        text-align: right;\n",
              "    }\n",
              "</style>\n",
              "<table border=\"1\" class=\"dataframe\">\n",
              "  <thead>\n",
              "    <tr style=\"text-align: right;\">\n",
              "      <th></th>\n",
              "      <th>text</th>\n",
              "      <th>sentiment_strength</th>\n",
              "    </tr>\n",
              "  </thead>\n",
              "  <tbody>\n",
              "    <tr>\n",
              "      <th>0</th>\n",
              "      <td>This store is pretty good. Not as great as Wal...</td>\n",
              "      <td>Positive</td>\n",
              "    </tr>\n",
              "    <tr>\n",
              "      <th>1</th>\n",
              "      <td>They NEVER seem to get our \\norder correct, se...</td>\n",
              "      <td>Strong Negative</td>\n",
              "    </tr>\n",
              "    <tr>\n",
              "      <th>2</th>\n",
              "      <td>This place is truly a hidden gem (literally hi...</td>\n",
              "      <td>Positive</td>\n",
              "    </tr>\n",
              "    <tr>\n",
              "      <th>3</th>\n",
              "      <td>Incredible donuts. Sometimes you have to go ea...</td>\n",
              "      <td>Strong Positive</td>\n",
              "    </tr>\n",
              "    <tr>\n",
              "      <th>4</th>\n",
              "      <td>The ramen here is less than great. It came out...</td>\n",
              "      <td>Negative</td>\n",
              "    </tr>\n",
              "  </tbody>\n",
              "</table>\n",
              "</div>"
            ],
            "text/plain": [
              "                                                text sentiment_strength\n",
              "0  This store is pretty good. Not as great as Wal...           Positive\n",
              "1  They NEVER seem to get our \\norder correct, se...    Strong Negative\n",
              "2  This place is truly a hidden gem (literally hi...           Positive\n",
              "3  Incredible donuts. Sometimes you have to go ea...    Strong Positive\n",
              "4  The ramen here is less than great. It came out...           Negative"
            ]
          },
          "metadata": {},
          "execution_count": 51
        }
      ]
    },
    {
      "cell_type": "code",
      "metadata": {
        "colab": {
          "base_uri": "https://localhost:8080/"
        },
        "id": "N-euzArw7YKp",
        "outputId": "46a1deb2-ecba-48ba-d9f7-e63564f833fb"
      },
      "source": [
        "pd_stars.shape"
      ],
      "execution_count": null,
      "outputs": [
        {
          "output_type": "execute_result",
          "data": {
            "text/plain": [
              "(432079, 2)"
            ]
          },
          "metadata": {},
          "execution_count": 52
        }
      ]
    },
    {
      "cell_type": "markdown",
      "metadata": {
        "id": "HKF98QxX7YKp"
      },
      "source": [
        "#### Detect language and limit to English only"
      ]
    },
    {
      "cell_type": "code",
      "metadata": {
        "id": "Iq7WglpT7YKp"
      },
      "source": [
        "def lang_detect(x):\n",
        "    try:\n",
        "        return detect(x)\n",
        "    except:\n",
        "        return '--'"
      ],
      "execution_count": null,
      "outputs": []
    },
    {
      "cell_type": "code",
      "metadata": {
        "colab": {
          "base_uri": "https://localhost:8080/"
        },
        "id": "mSqawLnG7YKq",
        "outputId": "592be6e7-934f-46b3-ea45-e4429253cdfc"
      },
      "source": [
        "%time pd_reviews['lang'] = pd_reviews['text'].apply(lambda x: lang_detect(x))"
      ],
      "execution_count": null,
      "outputs": [
        {
          "output_type": "stream",
          "text": [
            "CPU times: user 31min 13s, sys: 32.9 s, total: 31min 46s\n",
            "Wall time: 31min 50s\n"
          ],
          "name": "stdout"
        }
      ]
    },
    {
      "cell_type": "code",
      "metadata": {
        "colab": {
          "base_uri": "https://localhost:8080/"
        },
        "id": "yY7Naw4S7YKq",
        "outputId": "e7884a9a-955b-4999-f358-b5328b7ed20f"
      },
      "source": [
        "pd_reviews = pd_reviews[pd_reviews['lang']=='en'].reset_index(drop=True)\n",
        "pd_reviews.shape"
      ],
      "execution_count": null,
      "outputs": [
        {
          "output_type": "execute_result",
          "data": {
            "text/plain": [
              "(251393, 3)"
            ]
          },
          "metadata": {},
          "execution_count": 55
        }
      ]
    },
    {
      "cell_type": "code",
      "metadata": {
        "id": "6hO6bcp-7YKq"
      },
      "source": [
        "pd_reviews.to_json('/content/drive/MyDrive/yelp_train_sentiment.json', orient='records', lines=True)"
      ],
      "execution_count": null,
      "outputs": []
    },
    {
      "cell_type": "markdown",
      "metadata": {
        "id": "xXZFiDpC7YKq"
      },
      "source": [
        "# Yelp Model Build"
      ]
    },
    {
      "cell_type": "code",
      "metadata": {
        "id": "28X5R5KJ7YKq"
      },
      "source": [
        "#!pip install eli5"
      ],
      "execution_count": 4,
      "outputs": []
    },
    {
      "cell_type": "code",
      "metadata": {
        "id": "5vN_SEVu7YKq"
      },
      "source": [
        "import sklearn\n",
        "import pandas as pd\n",
        "\n",
        "import wordcloud\n",
        "import matplotlib.pyplot as plt\n",
        "\n",
        "from sklearn.model_selection import train_test_split\n",
        "from sklearn.feature_extraction.text import CountVectorizer, HashingVectorizer, TfidfTransformer, TfidfVectorizer\n",
        "from sklearn.naive_bayes import MultinomialNB\n",
        "from sklearn.metrics import classification_report, confusion_matrix, accuracy_score\n",
        "from sklearn.linear_model import LogisticRegression, SGDClassifier\n",
        "from sklearn import metrics\n",
        "import numpy as np\n",
        "\n",
        "import eli5"
      ],
      "execution_count": 5,
      "outputs": []
    },
    {
      "cell_type": "markdown",
      "metadata": {
        "id": "_GGJlaiN7YKq"
      },
      "source": [
        "## Load Data"
      ]
    },
    {
      "cell_type": "code",
      "metadata": {
        "id": "dIl9faHG7YKq"
      },
      "source": [
        "yelp_path = '/content/drive/MyDrive/yelp_train_sentiment.json'\n",
        "\n",
        "yelp = pd.read_json(yelp_path, orient='records', lines=True)\n",
        "# yelp = pd.read_json(yelp_path, orient='records', lines=True).head(10000)\n",
        "\n"
      ],
      "execution_count": 6,
      "outputs": []
    },
    {
      "cell_type": "code",
      "metadata": {
        "colab": {
          "base_uri": "https://localhost:8080/"
        },
        "id": "vdD_DpOY7YKr",
        "outputId": "0138b271-930f-40d2-abf4-7130839b8aaf"
      },
      "source": [
        "yelp.shape\n"
      ],
      "execution_count": 7,
      "outputs": [
        {
          "output_type": "execute_result",
          "data": {
            "text/plain": [
              "(251393, 3)"
            ]
          },
          "metadata": {},
          "execution_count": 7
        }
      ]
    },
    {
      "cell_type": "markdown",
      "metadata": {
        "id": "ASNihQZG7YKr"
      },
      "source": [
        "#### Interpreting results\n",
        "label = 0 >> Negative Sentiment  \n",
        "label = 1 >> Positive Sentiment  "
      ]
    },
    {
      "cell_type": "code",
      "metadata": {
        "colab": {
          "base_uri": "https://localhost:8080/",
          "height": 287
        },
        "id": "VCfwtCMo7YKr",
        "outputId": "3a2a0381-6e91-4a8f-c591-f46a427b5a9a"
      },
      "source": [
        "pd.set_option('display.max_colwidth', 200)\n",
        "yelp.head(5)"
      ],
      "execution_count": 8,
      "outputs": [
        {
          "output_type": "execute_result",
          "data": {
            "text/html": [
              "<div>\n",
              "<style scoped>\n",
              "    .dataframe tbody tr th:only-of-type {\n",
              "        vertical-align: middle;\n",
              "    }\n",
              "\n",
              "    .dataframe tbody tr th {\n",
              "        vertical-align: top;\n",
              "    }\n",
              "\n",
              "    .dataframe thead th {\n",
              "        text-align: right;\n",
              "    }\n",
              "</style>\n",
              "<table border=\"1\" class=\"dataframe\">\n",
              "  <thead>\n",
              "    <tr style=\"text-align: right;\">\n",
              "      <th></th>\n",
              "      <th>text</th>\n",
              "      <th>label</th>\n",
              "      <th>lang</th>\n",
              "    </tr>\n",
              "  </thead>\n",
              "  <tbody>\n",
              "    <tr>\n",
              "      <th>0</th>\n",
              "      <td>This place used to be a cool, chill place. Now its a bunch of neanderthal bouncers hopped up on steroids acting like the can do whatever they want. There are so many better places in davis square ...</td>\n",
              "      <td>0</td>\n",
              "      <td>en</td>\n",
              "    </tr>\n",
              "    <tr>\n",
              "      <th>1</th>\n",
              "      <td>best pizza on a busy street! my kids love it. i've been recommending to everyone who has a birthday party in that area to order from pizzapalooza and they are not disappointed. the pizza is thick,...</td>\n",
              "      <td>1</td>\n",
              "      <td>en</td>\n",
              "    </tr>\n",
              "    <tr>\n",
              "      <th>2</th>\n",
              "      <td>Seriously, why aren't you at Comfort?\\n\\nTonight was a special occasion, and we wanted to try something new.  Yelp led us to Comfort.   So worth it!\\n\\nThis is a new place, and I guess Watertown i...</td>\n",
              "      <td>1</td>\n",
              "      <td>en</td>\n",
              "    </tr>\n",
              "    <tr>\n",
              "      <th>3</th>\n",
              "      <td>A few months back i went in for a toothache and ended up needing a root canal after diagnosis from Dr. Austria. the front desk then comes to me while I'm still in the chair stating it'll cost $140...</td>\n",
              "      <td>0</td>\n",
              "      <td>en</td>\n",
              "    </tr>\n",
              "    <tr>\n",
              "      <th>4</th>\n",
              "      <td>Might be helpful if you were looking to buy, but if you need help with something you currently have then good luck getting any help or response.  I walked into this place around 5:30p on a Tuesday...</td>\n",
              "      <td>0</td>\n",
              "      <td>en</td>\n",
              "    </tr>\n",
              "  </tbody>\n",
              "</table>\n",
              "</div>"
            ],
            "text/plain": [
              "                                                                                                                                                                                                      text  ...  lang\n",
              "0  This place used to be a cool, chill place. Now its a bunch of neanderthal bouncers hopped up on steroids acting like the can do whatever they want. There are so many better places in davis square ...  ...    en\n",
              "1  best pizza on a busy street! my kids love it. i've been recommending to everyone who has a birthday party in that area to order from pizzapalooza and they are not disappointed. the pizza is thick,...  ...    en\n",
              "2  Seriously, why aren't you at Comfort?\\n\\nTonight was a special occasion, and we wanted to try something new.  Yelp led us to Comfort.   So worth it!\\n\\nThis is a new place, and I guess Watertown i...  ...    en\n",
              "3  A few months back i went in for a toothache and ended up needing a root canal after diagnosis from Dr. Austria. the front desk then comes to me while I'm still in the chair stating it'll cost $140...  ...    en\n",
              "4  Might be helpful if you were looking to buy, but if you need help with something you currently have then good luck getting any help or response.  I walked into this place around 5:30p on a Tuesday...  ...    en\n",
              "\n",
              "[5 rows x 3 columns]"
            ]
          },
          "metadata": {},
          "execution_count": 8
        }
      ]
    },
    {
      "cell_type": "code",
      "metadata": {
        "colab": {
          "base_uri": "https://localhost:8080/"
        },
        "id": "p6B4VKAu7YKr",
        "outputId": "de5edad4-13f3-46fc-fcb6-ddc856b84ebe"
      },
      "source": [
        "# define X and y\n",
        "X = yelp['text']\n",
        "y = yelp['label']\n",
        "\n",
        "print(f\"X Shape: {X.shape}\")\n",
        "print(f\"y Shape: {y.shape}\")"
      ],
      "execution_count": 9,
      "outputs": [
        {
          "output_type": "stream",
          "name": "stdout",
          "text": [
            "X Shape: (251393,)\n",
            "y Shape: (251393,)\n"
          ]
        }
      ]
    },
    {
      "cell_type": "code",
      "metadata": {
        "colab": {
          "base_uri": "https://localhost:8080/"
        },
        "id": "3RLG2Ith7YKr",
        "outputId": "d4f68ec4-f6f8-4d9d-9f31-0c0e2c2889aa"
      },
      "source": [
        "# split X and y into training and testing sets\n",
        "X_train, X_test, y_train, y_test = train_test_split(X, y, random_state=1)\n",
        "\n",
        "print(f\"Training records, X_train: {X_train.shape} y_train: {y_train.shape}\")\n",
        "print(f\"Testing records, X_test: {X_test.shape} y_test: {y_test.shape}\")"
      ],
      "execution_count": 10,
      "outputs": [
        {
          "output_type": "stream",
          "name": "stdout",
          "text": [
            "Training records, X_train: (188544,) y_train: (188544,)\n",
            "Testing records, X_test: (62849,) y_test: (62849,)\n"
          ]
        }
      ]
    },
    {
      "cell_type": "markdown",
      "metadata": {
        "id": "49ghqrvB7YKr"
      },
      "source": [
        "## Initialize vectorizer\n"
      ]
    },
    {
      "cell_type": "code",
      "metadata": {
        "id": "T4wSv-Nq7YKr"
      },
      "source": [
        "vect = CountVectorizer()\n",
        "\n",
        "# vect = CountVectorizer(lowercase=False, stop_words='english',\n",
        "#                                   max_df=0.8, min_df=0.2, max_features=10000, ngram_range=(1,3))\n",
        "\n",
        "vect = CountVectorizer(lowercase=False, stop_words='english', ngram_range=(1,3))"
      ],
      "execution_count": 11,
      "outputs": []
    },
    {
      "cell_type": "markdown",
      "metadata": {
        "id": "oU-bONRD7YKs"
      },
      "source": [
        "## Part 4: Building and evaluating BiGRU Classifier using ktrain package\n"
      ]
    },
    {
      "cell_type": "code",
      "metadata": {
        "id": "d3r6CUGf7YKs"
      },
      "source": [
        "import warnings\n",
        "# warnings.filterwarnings('ignore')\n",
        "\n",
        "import re\n",
        "\n",
        "from sklearn import preprocessing\n",
        "from sklearn.model_selection import train_test_split\n",
        "\n",
        "import tensorflow as tf\n",
        "from keras.preprocessing.text import Tokenizer, text_to_word_sequence\n"
      ],
      "execution_count": 12,
      "outputs": []
    },
    {
      "cell_type": "code",
      "metadata": {
        "id": "6YNPZDJv7YKs"
      },
      "source": [
        "#!pip install ktrain"
      ],
      "execution_count": 13,
      "outputs": []
    },
    {
      "cell_type": "code",
      "metadata": {
        "id": "DlnQMZJX7YKs"
      },
      "source": [
        "import ktrain\n",
        "from ktrain import text"
      ],
      "execution_count": 14,
      "outputs": []
    },
    {
      "cell_type": "markdown",
      "metadata": {
        "id": "_lkXKoUY7YKs"
      },
      "source": [
        "#### Check available text classifiers in ktrain"
      ]
    },
    {
      "cell_type": "code",
      "metadata": {
        "colab": {
          "base_uri": "https://localhost:8080/"
        },
        "id": "c_CfQc1u7YKs",
        "outputId": "a19fe8a5-8b37-4c6d-a616-671999af06e3"
      },
      "source": [
        "text.print_text_classifiers()"
      ],
      "execution_count": 15,
      "outputs": [
        {
          "output_type": "stream",
          "name": "stdout",
          "text": [
            "fasttext: a fastText-like model [http://arxiv.org/pdf/1607.01759.pdf]\n",
            "logreg: logistic regression using a trainable Embedding layer\n",
            "nbsvm: NBSVM model [http://www.aclweb.org/anthology/P12-2018]\n",
            "bigru: Bidirectional GRU with pretrained fasttext word vectors [https://fasttext.cc/docs/en/crawl-vectors.html]\n",
            "standard_gru: simple 2-layer GRU with randomly initialized embeddings\n",
            "bert: Bidirectional Encoder Representations from Transformers (BERT) from keras_bert [https://arxiv.org/abs/1810.04805]\n",
            "distilbert: distilled, smaller, and faster BERT from Hugging Face transformers [https://arxiv.org/abs/1910.01108]\n"
          ]
        }
      ]
    },
    {
      "cell_type": "markdown",
      "metadata": {
        "id": "v4ef5y887YKs"
      },
      "source": [
        "### Prepare source data"
      ]
    },
    {
      "cell_type": "code",
      "metadata": {
        "colab": {
          "base_uri": "https://localhost:8080/",
          "height": 287
        },
        "id": "umMUIHrP7YKs",
        "outputId": "3861a6be-d46a-43d3-fcc4-ea8d2954fb40"
      },
      "source": [
        "sentiment = {0: \"Negative\", 1: \"Positive\"}\n",
        "yelp['sentiment'] = yelp['label'].map(sentiment)\n",
        "\n",
        "df = yelp[['text', 'sentiment']].rename(columns={'text':'data', 'sentiment':'target'})\n",
        "\n",
        "df.head(5)"
      ],
      "execution_count": 16,
      "outputs": [
        {
          "output_type": "execute_result",
          "data": {
            "text/html": [
              "<div>\n",
              "<style scoped>\n",
              "    .dataframe tbody tr th:only-of-type {\n",
              "        vertical-align: middle;\n",
              "    }\n",
              "\n",
              "    .dataframe tbody tr th {\n",
              "        vertical-align: top;\n",
              "    }\n",
              "\n",
              "    .dataframe thead th {\n",
              "        text-align: right;\n",
              "    }\n",
              "</style>\n",
              "<table border=\"1\" class=\"dataframe\">\n",
              "  <thead>\n",
              "    <tr style=\"text-align: right;\">\n",
              "      <th></th>\n",
              "      <th>data</th>\n",
              "      <th>target</th>\n",
              "    </tr>\n",
              "  </thead>\n",
              "  <tbody>\n",
              "    <tr>\n",
              "      <th>0</th>\n",
              "      <td>This place used to be a cool, chill place. Now its a bunch of neanderthal bouncers hopped up on steroids acting like the can do whatever they want. There are so many better places in davis square ...</td>\n",
              "      <td>Negative</td>\n",
              "    </tr>\n",
              "    <tr>\n",
              "      <th>1</th>\n",
              "      <td>best pizza on a busy street! my kids love it. i've been recommending to everyone who has a birthday party in that area to order from pizzapalooza and they are not disappointed. the pizza is thick,...</td>\n",
              "      <td>Positive</td>\n",
              "    </tr>\n",
              "    <tr>\n",
              "      <th>2</th>\n",
              "      <td>Seriously, why aren't you at Comfort?\\n\\nTonight was a special occasion, and we wanted to try something new.  Yelp led us to Comfort.   So worth it!\\n\\nThis is a new place, and I guess Watertown i...</td>\n",
              "      <td>Positive</td>\n",
              "    </tr>\n",
              "    <tr>\n",
              "      <th>3</th>\n",
              "      <td>A few months back i went in for a toothache and ended up needing a root canal after diagnosis from Dr. Austria. the front desk then comes to me while I'm still in the chair stating it'll cost $140...</td>\n",
              "      <td>Negative</td>\n",
              "    </tr>\n",
              "    <tr>\n",
              "      <th>4</th>\n",
              "      <td>Might be helpful if you were looking to buy, but if you need help with something you currently have then good luck getting any help or response.  I walked into this place around 5:30p on a Tuesday...</td>\n",
              "      <td>Negative</td>\n",
              "    </tr>\n",
              "  </tbody>\n",
              "</table>\n",
              "</div>"
            ],
            "text/plain": [
              "                                                                                                                                                                                                      data    target\n",
              "0  This place used to be a cool, chill place. Now its a bunch of neanderthal bouncers hopped up on steroids acting like the can do whatever they want. There are so many better places in davis square ...  Negative\n",
              "1  best pizza on a busy street! my kids love it. i've been recommending to everyone who has a birthday party in that area to order from pizzapalooza and they are not disappointed. the pizza is thick,...  Positive\n",
              "2  Seriously, why aren't you at Comfort?\\n\\nTonight was a special occasion, and we wanted to try something new.  Yelp led us to Comfort.   So worth it!\\n\\nThis is a new place, and I guess Watertown i...  Positive\n",
              "3  A few months back i went in for a toothache and ended up needing a root canal after diagnosis from Dr. Austria. the front desk then comes to me while I'm still in the chair stating it'll cost $140...  Negative\n",
              "4  Might be helpful if you were looking to buy, but if you need help with something you currently have then good luck getting any help or response.  I walked into this place around 5:30p on a Tuesday...  Negative"
            ]
          },
          "metadata": {},
          "execution_count": 16
        }
      ]
    },
    {
      "cell_type": "code",
      "metadata": {
        "colab": {
          "base_uri": "https://localhost:8080/",
          "height": 142
        },
        "id": "swlYRANZ7YKt",
        "outputId": "984d3ff4-94a7-4548-a4d5-b16cbb99c10d"
      },
      "source": [
        "df.groupby(['target']).count()"
      ],
      "execution_count": 17,
      "outputs": [
        {
          "output_type": "execute_result",
          "data": {
            "text/html": [
              "<div>\n",
              "<style scoped>\n",
              "    .dataframe tbody tr th:only-of-type {\n",
              "        vertical-align: middle;\n",
              "    }\n",
              "\n",
              "    .dataframe tbody tr th {\n",
              "        vertical-align: top;\n",
              "    }\n",
              "\n",
              "    .dataframe thead th {\n",
              "        text-align: right;\n",
              "    }\n",
              "</style>\n",
              "<table border=\"1\" class=\"dataframe\">\n",
              "  <thead>\n",
              "    <tr style=\"text-align: right;\">\n",
              "      <th></th>\n",
              "      <th>data</th>\n",
              "    </tr>\n",
              "    <tr>\n",
              "      <th>target</th>\n",
              "      <th></th>\n",
              "    </tr>\n",
              "  </thead>\n",
              "  <tbody>\n",
              "    <tr>\n",
              "      <th>Negative</th>\n",
              "      <td>125449</td>\n",
              "    </tr>\n",
              "    <tr>\n",
              "      <th>Positive</th>\n",
              "      <td>125944</td>\n",
              "    </tr>\n",
              "  </tbody>\n",
              "</table>\n",
              "</div>"
            ],
            "text/plain": [
              "            data\n",
              "target          \n",
              "Negative  125449\n",
              "Positive  125944"
            ]
          },
          "metadata": {},
          "execution_count": 17
        }
      ]
    },
    {
      "cell_type": "markdown",
      "metadata": {
        "id": "82S0EA3l7YKt"
      },
      "source": [
        "## STEP 1:  Load and Preprocess the Dataset\n",
        "\n",
        "Preprocessing the data using the texts_from_array function"
      ]
    },
    {
      "cell_type": "code",
      "metadata": {
        "id": "xNaPkm027YKt"
      },
      "source": [
        "# maxLen = 200 #each document can be of most <maxLen> words. 0 is used as padding ID.\n",
        "# nGramRange = 1 #size of multi-word phrases to consider\n",
        "# preprocessMode='bert' #Either 'standard' (normal tokenization) or 'bert' tokenization and preprocessing for use with BERT text classification model.\n",
        "# sampleSize = 0.3 #Proportion of training to use for validation\n",
        "\n",
        "# (x_train,  y_train), (x_test, y_test), preproc = text.texts_from_df(train_df = df, \n",
        "#                                                                     text_column  = 'data', \n",
        "#                                                                     label_columns = ['target'],\n",
        "#                                                                        val_pct=sampleSize,\n",
        "#                                                                        preprocess_mode=preprocessMode, #text must be preprocessed in a specific way for use with BERT\n",
        "#                                                                        maxlen=maxLen)"
      ],
      "execution_count": 18,
      "outputs": []
    },
    {
      "cell_type": "code",
      "metadata": {
        "colab": {
          "base_uri": "https://localhost:8080/"
        },
        "id": "K1GyFzcU7YKt",
        "outputId": "84d52c6b-ccc1-42cf-b0b2-0614d73b77dd"
      },
      "source": [
        "maxFeatures = 20000 #num of words to consider in vocabulary\n",
        "maxLen = 200 #each document can be of most <maxLen> words. 0 is used as padding ID.\n",
        "nGramRange = 1 #size of multi-word phrases to consider\n",
        "preprocessMode='standard' #Either 'standard' (normal tokenization) or 'bert' tokenization and preprocessing for use with BERT text classification model.\n",
        "sampleSize = 0.3 #Proportion of training to use for validation\n",
        "\n",
        "(x_train,  y_train), (x_test, y_test), preproc = text.texts_from_df(train_df = df, \n",
        "                                                                    text_column  = 'data', \n",
        "                                                                    label_columns = ['target'],\n",
        "                                                                       val_pct=sampleSize,\n",
        "                                                                       preprocess_mode=preprocessMode, #text must be preprocessed in a specific way for use with BERT\n",
        "                                                                       maxlen=maxLen, \n",
        "                                                                       max_features=maxFeatures)"
      ],
      "execution_count": 19,
      "outputs": [
        {
          "output_type": "stream",
          "name": "stdout",
          "text": [
            "['Negative', 'Positive']\n",
            "        Negative  Positive\n",
            "11134        0.0       1.0\n",
            "114077       1.0       0.0\n",
            "164970       0.0       1.0\n",
            "108377       0.0       1.0\n",
            "149203       0.0       1.0\n",
            "['Negative', 'Positive']\n",
            "        Negative  Positive\n",
            "12494        0.0       1.0\n",
            "176513       1.0       0.0\n",
            "108420       0.0       1.0\n",
            "139141       0.0       1.0\n",
            "250056       1.0       0.0\n",
            "language: en\n",
            "Word Counts: 112407\n",
            "Nrows: 175975\n",
            "175975 train sequences\n",
            "train sequence lengths:\n",
            "\tmean : 116\n",
            "\t95percentile : 333\n",
            "\t99percentile : 581\n",
            "x_train shape: (175975,200)\n",
            "y_train shape: (175975, 2)\n",
            "Is Multi-Label? False\n",
            "75418 test sequences\n",
            "test sequence lengths:\n",
            "\tmean : 116\n",
            "\t95percentile : 334\n",
            "\t99percentile : 575\n",
            "x_test shape: (75418,200)\n",
            "y_test shape: (75418, 2)\n"
          ]
        }
      ]
    },
    {
      "cell_type": "markdown",
      "metadata": {
        "id": "HbFPoVAW7YKt"
      },
      "source": [
        "## STEP 2:  Loading a pretrained BERT model and wrap it in a `ktrain.Learner` object\n"
      ]
    },
    {
      "cell_type": "code",
      "metadata": {
        "id": "b7LSuMPu7YKt"
      },
      "source": [
        "#model = text.text_classifier('bert', (x_train, y_train), preproc=preproc)"
      ],
      "execution_count": 20,
      "outputs": []
    },
    {
      "cell_type": "code",
      "metadata": {
        "colab": {
          "base_uri": "https://localhost:8080/",
          "height": 269
        },
        "id": "YTh0VKlZ7YKu",
        "outputId": "72e62fb6-b616-422a-84b9-1080bb12d3a2"
      },
      "source": [
        "model = text.text_classifier('bigru', (x_train, y_train), preproc=preproc)"
      ],
      "execution_count": 21,
      "outputs": [
        {
          "output_type": "stream",
          "name": "stdout",
          "text": [
            "Is Multi-Label? False\n",
            "compiling word ID features...\n",
            "maxlen is 200\n",
            "word vectors will be loaded from: https://dl.fbaipublicfiles.com/fasttext/vectors-crawl/cc.en.300.vec.gz\n",
            "processing pretrained word vectors...\n",
            "downloading pretrained word vectors to /root/ktrain_data ...\n",
            "[██████████████████████████████████████████████████]\n",
            "extracting pretrained word vectors...\n",
            "done.\n",
            "\n",
            "cleanup downloaded zip...\n",
            "done.\n",
            "\n",
            "loading pretrained word vectors...this may take a few moments...\n"
          ]
        },
        {
          "output_type": "display_data",
          "data": {
            "text/html": [
              ""
            ],
            "text/plain": [
              "<IPython.core.display.HTML object>"
            ]
          },
          "metadata": {}
        },
        {
          "output_type": "stream",
          "name": "stdout",
          "text": [
            "done.\n"
          ]
        }
      ]
    },
    {
      "cell_type": "code",
      "metadata": {
        "id": "LK5RF77C7YKu"
      },
      "source": [
        "# batchSize = 16 ### Check best size\n",
        "\n",
        "# learner = ktrain.get_learner(model, \n",
        "#                              train_data=(x_train, y_train), \n",
        "#                              val_data=(x_test, y_test), \n",
        "#                              batch_size=batchSize)"
      ],
      "execution_count": 22,
      "outputs": []
    },
    {
      "cell_type": "code",
      "metadata": {
        "id": "Et74zzkP7YKu"
      },
      "source": [
        "batchSize = 64 ### Check best size\n",
        "\n",
        "learner = ktrain.get_learner(model, \n",
        "                             train_data=(x_train, y_train), \n",
        "                             val_data=(x_test, y_test), \n",
        "                             batch_size=batchSize)"
      ],
      "execution_count": 23,
      "outputs": []
    },
    {
      "cell_type": "markdown",
      "metadata": {
        "id": "NYKtWAz67YKu"
      },
      "source": [
        "## STEP 3: Train the Model\n",
        "\n",
        "Using the ktrain Learning Rate Finder can be used to find a good learning rate by invoking `learner.lr_find()` and `learner.lr_plot()`, prior to training.\n",
        "\n",
        "The `learner.fit_onecycle` method employs a [1cycle learning rate policy](https://arxiv.org/pdf/1803.09820.pdf)."
      ]
    },
    {
      "cell_type": "code",
      "metadata": {
        "colab": {
          "base_uri": "https://localhost:8080/"
        },
        "id": "G0KcxcLK9Kz9",
        "outputId": "d71c95ab-c87b-40f5-a015-f53b164abb24"
      },
      "source": [
        "# briefly simulate training to find good learning rate\n",
        "\n",
        "learner.lr_find(max_epochs=10)"
      ],
      "execution_count": 24,
      "outputs": [
        {
          "output_type": "stream",
          "name": "stdout",
          "text": [
            "simulating training for different learning rates... this may take a few moments...\n",
            "Epoch 1/10\n",
            "2750/2750 [==============================] - 67s 22ms/step - loss: 0.6961 - accuracy: 0.5022\n",
            "Epoch 2/10\n",
            "2750/2750 [==============================] - 63s 23ms/step - loss: 0.6792 - accuracy: 0.5661\n",
            "Epoch 3/10\n",
            "2750/2750 [==============================] - 62s 22ms/step - loss: 0.5724 - accuracy: 0.7098\n",
            "Epoch 4/10\n",
            "2750/2750 [==============================] - 62s 22ms/step - loss: 0.1312 - accuracy: 0.9527\n",
            "Epoch 5/10\n",
            "2750/2750 [==============================] - 62s 22ms/step - loss: 0.0772 - accuracy: 0.9722\n",
            "Epoch 6/10\n",
            "2750/2750 [==============================] - 63s 23ms/step - loss: 0.0612 - accuracy: 0.9783\n",
            "Epoch 7/10\n",
            "2750/2750 [==============================] - 65s 24ms/step - loss: 0.1618 - accuracy: 0.9470\n",
            "Epoch 8/10\n",
            "2750/2750 [==============================] - 0s 78us/step - loss: 0.3804 - accuracy: 0.8935\n",
            "\n",
            "\n",
            "done.\n",
            "Please invoke the Learner.lr_plot() method to visually inspect the loss plot to help identify the maximal learning rate associated with falling loss.\n"
          ]
        }
      ]
    },
    {
      "cell_type": "code",
      "metadata": {
        "colab": {
          "base_uri": "https://localhost:8080/",
          "height": 283
        },
        "id": "WgimQnYb9NHK",
        "outputId": "09789151-f35e-49e9-e5a4-77b3ee26feb3"
      },
      "source": [
        "learner.lr_plot()"
      ],
      "execution_count": 25,
      "outputs": [
        {
          "output_type": "display_data",
          "data": {
            "image/png": "[encoded data removed]",
            "text/plain": [
              "<Figure size 432x288 with 1 Axes>"
            ]
          },
          "metadata": {
            "needs_background": "light"
          }
        }
      ]
    },
    {
      "cell_type": "code",
      "metadata": {
        "colab": {
          "base_uri": "https://localhost:8080/"
        },
        "id": "AIjJ1aFO7YKu",
        "outputId": "86ee8e4c-c8a8-437a-f042-3a3cb28fc091"
      },
      "source": [
        "learningRate = 0.001\n",
        "numEpoch = 3\n",
        "\n",
        "learner.fit_onecycle(learningRate, numEpoch)\n",
        "#learner.autofit(learningRate, numEpoch)\n",
        "ktrain.get_predictor(model, preproc).save('/content/drive/MyDrive/bigru_yelp_predictor')"
      ],
      "execution_count": 26,
      "outputs": [
        {
          "output_type": "stream",
          "name": "stdout",
          "text": [
            "\n",
            "\n",
            "begin training using onecycle policy with max lr of 0.001...\n",
            "Epoch 1/3\n",
            "2750/2750 [==============================] - 81s 29ms/step - loss: 0.1478 - accuracy: 0.9358 - val_loss: 0.0629 - val_accuracy: 0.9773\n",
            "Epoch 2/3\n",
            "2750/2750 [==============================] - 76s 28ms/step - loss: 0.0510 - accuracy: 0.9821 - val_loss: 0.0515 - val_accuracy: 0.9816\n",
            "Epoch 3/3\n",
            "2750/2750 [==============================] - 77s 28ms/step - loss: 0.0223 - accuracy: 0.9930 - val_loss: 0.0535 - val_accuracy: 0.9822\n"
          ]
        }
      ]
    },
    {
      "cell_type": "code",
      "metadata": {
        "id": "Q8o1Mo0w7YKu"
      },
      "source": [
        "# # reload Predictor and extract model\n",
        "# model = ktrain.load_predictor('/content/drive/MyDrive/bert_yelp_predictor').model\n",
        "\n",
        "# # re-instantiate Learner and continue training\n",
        "# learner = ktrain.get_learner(model, train_data=(x_train, y_train), val_data=(x_test, y_test), batch_size=batchSize)\n",
        "# #learner.fit_onecycle(learningRate, numEpoch)\n",
        "# learner.autofit(learningRate, numEpoch)\n",
        "# ktrain.get_predictor(model, preproc).save('/content/drive/MyDrive/bert_yelp_predictor')"
      ],
      "execution_count": 27,
      "outputs": []
    },
    {
      "cell_type": "code",
      "metadata": {
        "id": "pmewfg3J7YKu"
      },
      "source": [
        ""
      ],
      "execution_count": 27,
      "outputs": []
    },
    {
      "cell_type": "code",
      "metadata": {
        "id": "imuq6DCY7YKu"
      },
      "source": [
        "# learningRate = 0.001\n",
        "# numEpoch = 3\n",
        "\n",
        "# # learner.fit_onecycle(learningRate, numEpoch)\n",
        "# learner.autofit(learningRate, numEpoch)"
      ],
      "execution_count": 28,
      "outputs": []
    },
    {
      "cell_type": "code",
      "metadata": {
        "colab": {
          "base_uri": "https://localhost:8080/"
        },
        "id": "mllezgsN7YKu",
        "outputId": "323f58cd-e40c-4b6b-ef5b-e2dc014c4a71"
      },
      "source": [
        "learner.validate(val_data=(x_test, y_test))"
      ],
      "execution_count": 29,
      "outputs": [
        {
          "output_type": "stream",
          "name": "stdout",
          "text": [
            "              precision    recall  f1-score   support\n",
            "\n",
            "           0       0.98      0.98      0.98     37704\n",
            "           1       0.98      0.98      0.98     37714\n",
            "\n",
            "    accuracy                           0.98     75418\n",
            "   macro avg       0.98      0.98      0.98     75418\n",
            "weighted avg       0.98      0.98      0.98     75418\n",
            "\n"
          ]
        },
        {
          "output_type": "execute_result",
          "data": {
            "text/plain": [
              "array([[37067,   637],\n",
              "       [  709, 37005]])"
            ]
          },
          "metadata": {},
          "execution_count": 29
        }
      ]
    }
  ]
}